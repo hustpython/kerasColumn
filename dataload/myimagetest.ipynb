{
 "cells": [
  {
   "cell_type": "code",
   "execution_count": 1,
   "metadata": {
    "collapsed": false
   },
   "outputs": [
    {
     "name": "stderr",
     "output_type": "stream",
     "text": [
      "Using TensorFlow backend.\n"
     ]
    }
   ],
   "source": [
    "import numpy as np\n",
    "#seed\n",
    "np.random.seed(9)\n",
    "\n",
    "from keras.models import *\n",
    "from keras.layers import *\n",
    "from keras.optimizers import *\n",
    "from keras.applications import *\n",
    "from keras.preprocessing.image import *\n",
    "from keras.callbacks import *\n",
    "from keras.applications.xception import preprocess_input\n",
    "from keras.utils import multi_gpu_model\n",
    "from keras.callbacks import Callback\n",
    "\n",
    "import matplotlib.pyplot as plt\n",
    "from matplotlib.font_manager import FontProperties\n",
    "%matplotlib inline\n",
    "\n",
    "from PIL import Image\n",
    "from pylab import *\n",
    "from keras.utils import training_utils"
   ]
  },
  {
   "cell_type": "code",
   "execution_count": 2,
   "metadata": {
    "collapsed": false
   },
   "outputs": [],
   "source": [
    "# changing\n",
    "model_image_size = (299, 299)\n",
    "batch_size = 1"
   ]
  },
  {
   "cell_type": "markdown",
   "metadata": {},
   "source": [
    "# 构建generator"
   ]
  },
  {
   "cell_type": "code",
   "execution_count": 3,
   "metadata": {
    "collapsed": false
   },
   "outputs": [],
   "source": [
    "from my_image import MyImageDataGenerator"
   ]
  },
  {
   "cell_type": "code",
   "execution_count": 4,
   "metadata": {
    "collapsed": true
   },
   "outputs": [],
   "source": [
    "test_dir_134 = 'myimagetest/134/'"
   ]
  },
  {
   "cell_type": "code",
   "execution_count": 5,
   "metadata": {
    "collapsed": false,
    "scrolled": true
   },
   "outputs": [
    {
     "name": "stdout",
     "output_type": "stream",
     "text": [
      "Found 20 images.\n"
     ]
    }
   ],
   "source": [
    "test_datagen = MyImageDataGenerator(\n",
    "        preprocessing_function=preprocess_input,\n",
    "        )\n",
    "test_generator = test_datagen.myflow_from_directory(\n",
    "        test_dir_134,\n",
    "        target_size=model_image_size,\n",
    "        batch_size=batch_size,\n",
    "        )"
   ]
  },
  {
   "cell_type": "code",
   "execution_count": 6,
   "metadata": {
    "collapsed": false,
    "scrolled": true
   },
   "outputs": [
    {
     "data": {
      "text/plain": [
       "((array([[[[-0.99215686, -0.99215686, -0.99215686],\n",
       "           [-0.99215686, -0.99215686, -0.99215686],\n",
       "           [-0.9843137 , -0.9843137 , -0.9843137 ],\n",
       "           ...,\n",
       "           [-0.99215686, -0.9764706 , -0.9843137 ],\n",
       "           [-1.        , -0.99215686, -1.        ],\n",
       "           [-1.        , -0.9764706 , -0.99215686]],\n",
       "  \n",
       "          [[-1.        , -1.        , -1.        ],\n",
       "           [-0.99215686, -0.99215686, -0.99215686],\n",
       "           [-1.        , -1.        , -1.        ],\n",
       "           ...,\n",
       "           [-0.9843137 , -0.9843137 , -0.9843137 ],\n",
       "           [-1.        , -0.9843137 , -0.99215686],\n",
       "           [-1.        , -0.9764706 , -1.        ]],\n",
       "  \n",
       "          [[-0.9843137 , -0.9843137 , -0.9843137 ],\n",
       "           [-1.        , -1.        , -1.        ],\n",
       "           [-1.        , -1.        , -1.        ],\n",
       "           ...,\n",
       "           [-0.9764706 , -0.9764706 , -0.9764706 ],\n",
       "           [-0.9843137 , -0.96862745, -0.9764706 ],\n",
       "           [-0.99215686, -0.9764706 , -0.9843137 ]],\n",
       "  \n",
       "          ...,\n",
       "  \n",
       "          [[-1.        , -1.        , -1.        ],\n",
       "           [-1.        , -1.        , -1.        ],\n",
       "           [-1.        , -1.        , -1.        ],\n",
       "           ...,\n",
       "           [-1.        , -1.        , -1.        ],\n",
       "           [-1.        , -1.        , -1.        ],\n",
       "           [-1.        , -1.        , -1.        ]],\n",
       "  \n",
       "          [[-1.        , -1.        , -0.9843137 ],\n",
       "           [-1.        , -1.        , -1.        ],\n",
       "           [-1.        , -0.99215686, -1.        ],\n",
       "           ...,\n",
       "           [-1.        , -1.        , -1.        ],\n",
       "           [-1.        , -0.99215686, -1.        ],\n",
       "           [-1.        , -0.99215686, -1.        ]],\n",
       "  \n",
       "          [[-1.        , -1.        , -0.9843137 ],\n",
       "           [-1.        , -1.        , -1.        ],\n",
       "           [-1.        , -0.99215686, -1.        ],\n",
       "           ...,\n",
       "           [-1.        , -1.        , -1.        ],\n",
       "           [-1.        , -0.99215686, -1.        ],\n",
       "           [-1.        , -0.99215686, -1.        ]]]], dtype=float32),\n",
       "  array([[0., 0., 0., 0., 1., 0., 0., 1., 0., 0., 0., 0., 0., 0.]],\n",
       "        dtype=float32)),\n",
       " array([[[0., 2.],\n",
       "         [0., 2.],\n",
       "         [0., 1.],\n",
       "         [0., 1.],\n",
       "         [0., 2.],\n",
       "         [0., 2.],\n",
       "         [0., 3.]]], dtype=float32))"
      ]
     },
     "execution_count": 6,
     "metadata": {},
     "output_type": "execute_result"
    }
   ],
   "source": [
    "test_generator.next()"
   ]
  },
  {
   "cell_type": "code",
   "execution_count": 7,
   "metadata": {
    "collapsed": false
   },
   "outputs": [
    {
     "name": "stdout",
     "output_type": "stream",
     "text": [
      "[[0. 0. 0. 0. 1. 0. 0. 1. 0. 0. 0. 0. 0. 0.]]\n"
     ]
    }
   ],
   "source": [
    "print(test_generator[0][0][1])"
   ]
  },
  {
   "cell_type": "code",
   "execution_count": null,
   "metadata": {
    "collapsed": true
   },
   "outputs": [],
   "source": []
  }
 ],
 "metadata": {
  "anaconda-cloud": {},
  "kernelspec": {
   "display_name": "Python [default]",
   "language": "python",
   "name": "python3"
  },
  "language_info": {
   "codemirror_mode": {
    "name": "ipython",
    "version": 3
   },
   "file_extension": ".py",
   "mimetype": "text/x-python",
   "name": "python",
   "nbconvert_exporter": "python",
   "pygments_lexer": "ipython3",
   "version": "3.5.2"
  }
 },
 "nbformat": 4,
 "nbformat_minor": 0
}
