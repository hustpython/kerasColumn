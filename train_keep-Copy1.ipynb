{
 "cells": [
  {
   "cell_type": "markdown",
   "metadata": {},
   "source": [
    "# 0 环境配置"
   ]
  },
  {
   "cell_type": "code",
   "execution_count": 1,
   "metadata": {
    "collapsed": false
   },
   "outputs": [
    {
     "name": "stderr",
     "output_type": "stream",
     "text": [
      "Using TensorFlow backend.\n"
     ]
    },
    {
     "name": "stdout",
     "output_type": "stream",
     "text": [
      "import done\n"
     ]
    }
   ],
   "source": [
    "import os\n",
    "import cv2\n",
    "import glob\n",
    "import numpy as np\n",
    "import pandas as pd\n",
    "\n",
    "# seed\n",
    "np.random.seed(2018)\n",
    "\n",
    "from keras.optimizers import *\n",
    "from model.coremodel import coremodel\n",
    "from dataload.my_image import MyImageDataGenerator\n",
    "from loss import myloss\n",
    "from metric import diff_accuracy, count_accuracy\n",
    "print(\"import done\")"
   ]
  },
  {
   "cell_type": "markdown",
   "metadata": {},
   "source": [
    "# 1 预设参数"
   ]
  },
  {
   "cell_type": "code",
   "execution_count": 4,
   "metadata": {
    "collapsed": false
   },
   "outputs": [
    {
     "name": "stdout",
     "output_type": "stream",
     "text": [
      "steps_train = 21\n",
      "steps_valid = 2\n"
     ]
    }
   ],
   "source": [
    "# test\n",
    "basedir = \"/home/ubuntu/JupyterNotebook/columncount/data\"\n",
    "basemodel_name = 'inception_v3'\n",
    "model_image_size = (480, 640)\n",
    "train_samples_epoch = 120\n",
    "train_batch_size = 6\n",
    "steps_train = train_samples_epoch//train_batch_size + 1\n",
    "print(\"steps_train = {}\".format(steps_train))\n",
    "valid_samples_epoch = 39\n",
    "valid_batch_size = 20\n",
    "steps_valid = valid_samples_epoch//valid_batch_size + 1\n",
    "print(\"steps_valid = {}\".format(steps_valid))"
   ]
  },
  {
   "cell_type": "code",
   "execution_count": 18,
   "metadata": {
    "collapsed": false
   },
   "outputs": [
    {
     "name": "stdout",
     "output_type": "stream",
     "text": [
      "steps_train = 313\n",
      "steps_valid = 32\n"
     ]
    }
   ],
   "source": [
    "basedir = \"/home/ubuntu/JupyterNotebook/columncount/data\"\n",
    "basemodel_name = 'inception_v3'\n",
    "model_image_size = (480, 640)\n",
    "train_samples_epoch = 20000\n",
    "train_batch_size = 64\n",
    "steps_train = train_samples_epoch//train_batch_size + 1\n",
    "print(\"steps_train = {}\".format(steps_train))\n",
    "valid_samples_epoch = 2000\n",
    "valid_batch_size = 64\n",
    "steps_valid = valid_samples_epoch//valid_batch_size + 1\n",
    "print(\"steps_valid = {}\".format(steps_valid))"
   ]
  },
  {
   "cell_type": "code",
   "execution_count": 5,
   "metadata": {
    "collapsed": true
   },
   "outputs": [],
   "source": [
    "# define prerpocess_input\n",
    "from keras.applications.xception import preprocess_input as preprocess_input_ception\n",
    "from keras.applications.resnet50 import preprocess_input as preprocess_input_resnet\n",
    "if basemodel_name == 'resnet50':\n",
    "    preprocess_input = preprocess_input_resnet\n",
    "elif basemodel_name == 'xception' or 'inception_v3' or 'inception_resnet_v2':\n",
    "    preprocess_input = preprocess_input_ception\n",
    "else:\n",
    "    print('basemodel_name not defined！')\n",
    "    raise NameError"
   ]
  },
  {
   "cell_type": "code",
   "execution_count": 6,
   "metadata": {
    "collapsed": true
   },
   "outputs": [],
   "source": [
    "modelname = basemodel_name + '_20180123'"
   ]
  },
  {
   "cell_type": "markdown",
   "metadata": {},
   "source": [
    "# 2 数据生成"
   ]
  },
  {
   "cell_type": "code",
   "execution_count": 7,
   "metadata": {
    "collapsed": false
   },
   "outputs": [
    {
     "name": "stdout",
     "output_type": "stream",
     "text": [
      "Found 20 images.\n",
      "Found 20 images.\n"
     ]
    }
   ],
   "source": [
    "train_gen = MyImageDataGenerator(\n",
    "    preprocessing_function=preprocess_input,\n",
    "    rotation_range=15.,\n",
    "    width_shift_range=0.1,\n",
    "    height_shift_range=0.1,\n",
    "    shear_range=0.1,\n",
    "    zoom_range=(0.85, 1.1),\n",
    "    channel_shift_range=10.,\n",
    ")\n",
    "\n",
    "gen = MyImageDataGenerator(preprocessing_function=preprocess_input)\n",
    "\n",
    "train_generator = train_gen.myflow_from_directory(os.path.join(basedir, 'train'),  model_image_size,\n",
    "                                                shuffle=True, batch_size=train_batch_size)\n",
    "\n",
    "valid_generator = gen.myflow_from_directory(os.path.join(basedir, 'valid'),  model_image_size,\n",
    "                                          shuffle=True, batch_size=valid_batch_size)"
   ]
  },
  {
   "cell_type": "markdown",
   "metadata": {},
   "source": [
    "# 3 搭建模型"
   ]
  },
  {
   "cell_type": "code",
   "execution_count": 8,
   "metadata": {
    "collapsed": false
   },
   "outputs": [],
   "source": [
    "model = coremodel(basemodel_name, model_image_size)"
   ]
  },
  {
   "cell_type": "markdown",
   "metadata": {},
   "source": [
    "# 4 训练模型"
   ]
  },
  {
   "cell_type": "code",
   "execution_count": 9,
   "metadata": {
    "collapsed": false
   },
   "outputs": [
    {
     "name": "stdout",
     "output_type": "stream",
     "text": [
      "Epoch 1/50\n",
      "21/21 [==============================] - 16s 780ms/step - loss: 3.7938 - _diff_accuracy: 0.0000e+00 - _count_accuracy: 0.0240 - val_loss: 0.5566 - val__diff_accuracy: 0.0000e+00 - val__count_accuracy: 0.0500\n",
      "Epoch 2/50\n",
      "21/21 [==============================] - 9s 420ms/step - loss: 0.6266 - _diff_accuracy: 0.0000e+00 - _count_accuracy: 0.0952 - val_loss: 0.7728 - val__diff_accuracy: 0.0000e+00 - val__count_accuracy: 0.1000\n",
      "Epoch 3/50\n",
      "21/21 [==============================] - 9s 414ms/step - loss: 0.5687 - _diff_accuracy: 0.0000e+00 - _count_accuracy: 0.1346 - val_loss: 1.6056 - val__diff_accuracy: 0.0000e+00 - val__count_accuracy: 0.2000\n",
      "Epoch 4/50\n",
      "21/21 [==============================] - 9s 431ms/step - loss: 0.4967 - _diff_accuracy: 0.0000e+00 - _count_accuracy: 0.1361 - val_loss: 0.8199 - val__diff_accuracy: 0.0000e+00 - val__count_accuracy: 0.2000\n",
      "Epoch 5/50\n",
      "21/21 [==============================] - 9s 418ms/step - loss: 0.2927 - _diff_accuracy: 0.0400 - _count_accuracy: 0.2553 - val_loss: 1.3608 - val__diff_accuracy: 0.1000 - val__count_accuracy: 0.1000\n",
      "Epoch 6/50\n",
      "21/21 [==============================] - 9s 432ms/step - loss: 0.2090 - _diff_accuracy: 0.4377 - _count_accuracy: 0.3674 - val_loss: 1.0187 - val__diff_accuracy: 0.6500 - val__count_accuracy: 0.0500\n",
      "Epoch 7/50\n",
      "21/21 [==============================] - 9s 434ms/step - loss: 0.2487 - _diff_accuracy: 0.7616 - _count_accuracy: 0.3834 - val_loss: 0.9426 - val__diff_accuracy: 0.7500 - val__count_accuracy: 0.1500\n",
      "Epoch 8/50\n",
      "21/21 [==============================] - 9s 431ms/step - loss: 0.1395 - _diff_accuracy: 0.7790 - _count_accuracy: 0.4857 - val_loss: 0.1763 - val__diff_accuracy: 0.8000 - val__count_accuracy: 0.4000\n",
      "Epoch 9/50\n",
      "21/21 [==============================] - 9s 426ms/step - loss: 0.1701 - _diff_accuracy: 0.8399 - _count_accuracy: 0.5346 - val_loss: 0.1235 - val__diff_accuracy: 0.8000 - val__count_accuracy: 0.5500\n",
      "Epoch 10/50\n",
      "21/21 [==============================] - 9s 424ms/step - loss: 0.1534 - _diff_accuracy: 0.7864 - _count_accuracy: 0.5586 - val_loss: 0.1652 - val__diff_accuracy: 0.8000 - val__count_accuracy: 0.5500\n",
      "Epoch 11/50\n",
      "21/21 [==============================] - 9s 410ms/step - loss: 0.1204 - _diff_accuracy: 0.7932 - _count_accuracy: 0.5428 - val_loss: 0.0914 - val__diff_accuracy: 0.8000 - val__count_accuracy: 0.7000\n",
      "Epoch 12/50\n",
      "21/21 [==============================] - 9s 418ms/step - loss: 0.1181 - _diff_accuracy: 0.8016 - _count_accuracy: 0.6690 - val_loss: 0.1161 - val__diff_accuracy: 0.8000 - val__count_accuracy: 0.7000\n",
      "Epoch 13/50\n",
      "21/21 [==============================] - 8s 401ms/step - loss: 0.1571 - _diff_accuracy: 0.8012 - _count_accuracy: 0.5597 - val_loss: 0.0870 - val__diff_accuracy: 0.8000 - val__count_accuracy: 0.7000\n",
      "Epoch 14/50\n",
      "21/21 [==============================] - 9s 414ms/step - loss: 0.1134 - _diff_accuracy: 0.8096 - _count_accuracy: 0.6778 - val_loss: 0.0708 - val__diff_accuracy: 0.8000 - val__count_accuracy: 0.8000\n",
      "Epoch 15/50\n",
      "21/21 [==============================] - 9s 443ms/step - loss: 0.0847 - _diff_accuracy: 0.7936 - _count_accuracy: 0.6690 - val_loss: 0.0936 - val__diff_accuracy: 0.8000 - val__count_accuracy: 0.5500\n",
      "Epoch 16/50\n",
      "21/21 [==============================] - 9s 418ms/step - loss: 0.0746 - _diff_accuracy: 0.7864 - _count_accuracy: 0.7490 - val_loss: 0.0529 - val__diff_accuracy: 0.8000 - val__count_accuracy: 0.9000\n",
      "Epoch 17/50\n",
      "21/21 [==============================] - 9s 419ms/step - loss: 0.1055 - _diff_accuracy: 0.8168 - _count_accuracy: 0.7427 - val_loss: 0.1541 - val__diff_accuracy: 0.8500 - val__count_accuracy: 0.3500\n",
      "Epoch 18/50\n",
      "21/21 [==============================] - 9s 423ms/step - loss: 0.0909 - _diff_accuracy: 0.7864 - _count_accuracy: 0.6467 - val_loss: 0.0556 - val__diff_accuracy: 0.8500 - val__count_accuracy: 0.8500\n",
      "Epoch 19/50\n",
      "21/21 [==============================] - 9s 416ms/step - loss: 0.0808 - _diff_accuracy: 0.7784 - _count_accuracy: 0.8210 - val_loss: 0.0444 - val__diff_accuracy: 0.8500 - val__count_accuracy: 1.0000\n",
      "Epoch 20/50\n",
      "21/21 [==============================] - 9s 413ms/step - loss: 0.0742 - _diff_accuracy: 0.8093 - _count_accuracy: 0.8333 - val_loss: 0.0914 - val__diff_accuracy: 0.8000 - val__count_accuracy: 0.6500\n",
      "Epoch 21/50\n",
      "21/21 [==============================] - 9s 433ms/step - loss: 0.0811 - _diff_accuracy: 0.7642 - _count_accuracy: 0.7304 - val_loss: 0.0625 - val__diff_accuracy: 0.8500 - val__count_accuracy: 0.8500\n",
      "Epoch 22/50\n",
      "21/21 [==============================] - 9s 438ms/step - loss: 0.0897 - _diff_accuracy: 0.8176 - _count_accuracy: 0.6226 - val_loss: 0.0432 - val__diff_accuracy: 0.8500 - val__count_accuracy: 0.9500\n",
      "Epoch 23/50\n",
      "21/21 [==============================] - 9s 412ms/step - loss: 0.0699 - _diff_accuracy: 0.7861 - _count_accuracy: 0.7950 - val_loss: 0.0381 - val__diff_accuracy: 0.9000 - val__count_accuracy: 1.0000\n",
      "Epoch 24/50\n",
      "21/21 [==============================] - 9s 435ms/step - loss: 0.0692 - _diff_accuracy: 0.8496 - _count_accuracy: 0.8185 - val_loss: 0.0778 - val__diff_accuracy: 0.9000 - val__count_accuracy: 0.7000\n",
      "Epoch 25/50\n",
      "21/21 [==============================] - 9s 443ms/step - loss: 0.0766 - _diff_accuracy: 0.8648 - _count_accuracy: 0.8122 - val_loss: 0.0581 - val__diff_accuracy: 0.9000 - val__count_accuracy: 0.9000\n",
      "Epoch 26/50\n",
      "21/21 [==============================] - 9s 405ms/step - loss: 0.0639 - _diff_accuracy: 0.8422 - _count_accuracy: 0.8440 - val_loss: 0.0973 - val__diff_accuracy: 0.9000 - val__count_accuracy: 0.7000\n",
      "Epoch 27/50\n",
      "21/21 [==============================] - 9s 424ms/step - loss: 0.0538 - _diff_accuracy: 0.8345 - _count_accuracy: 0.8585 - val_loss: 0.0488 - val__diff_accuracy: 0.9000 - val__count_accuracy: 0.8500\n",
      "Epoch 28/50\n",
      "21/21 [==============================] - 9s 419ms/step - loss: 0.0503 - _diff_accuracy: 0.8505 - _count_accuracy: 0.8888 - val_loss: 0.0354 - val__diff_accuracy: 0.9000 - val__count_accuracy: 0.9500\n",
      "Epoch 29/50\n",
      "21/21 [==============================] - 9s 420ms/step - loss: 0.0623 - _diff_accuracy: 0.8808 - _count_accuracy: 0.7882 - val_loss: 0.0433 - val__diff_accuracy: 0.9000 - val__count_accuracy: 0.8500\n",
      "Epoch 30/50\n",
      "21/21 [==============================] - 9s 427ms/step - loss: 0.0531 - _diff_accuracy: 0.8888 - _count_accuracy: 0.8674 - val_loss: 0.0388 - val__diff_accuracy: 0.9000 - val__count_accuracy: 0.9500\n",
      "Epoch 31/50\n",
      "21/21 [==============================] - 9s 436ms/step - loss: 0.0604 - _diff_accuracy: 0.8888 - _count_accuracy: 0.8442 - val_loss: 0.0284 - val__diff_accuracy: 0.9000 - val__count_accuracy: 1.0000\n",
      "Epoch 32/50\n",
      "21/21 [==============================] - 9s 426ms/step - loss: 0.0497 - _diff_accuracy: 0.8512 - _count_accuracy: 0.8904 - val_loss: 0.0415 - val__diff_accuracy: 0.9000 - val__count_accuracy: 0.9000\n",
      "Epoch 33/50\n",
      "21/21 [==============================] - 9s 436ms/step - loss: 0.0507 - _diff_accuracy: 0.8656 - _count_accuracy: 0.8593 - val_loss: 0.0316 - val__diff_accuracy: 0.9000 - val__count_accuracy: 0.9500\n",
      "Epoch 34/50\n",
      "21/21 [==============================] - 9s 428ms/step - loss: 0.0505 - _diff_accuracy: 0.8985 - _count_accuracy: 0.8593 - val_loss: 0.0323 - val__diff_accuracy: 0.9500 - val__count_accuracy: 0.9500\n",
      "Epoch 35/50\n",
      "21/21 [==============================] - 9s 422ms/step - loss: 0.0485 - _diff_accuracy: 0.8743 - _count_accuracy: 0.8422 - val_loss: 0.0325 - val__diff_accuracy: 1.0000 - val__count_accuracy: 0.9000\n",
      "Epoch 36/50\n",
      "21/21 [==============================] - 9s 412ms/step - loss: 0.0508 - _diff_accuracy: 0.8968 - _count_accuracy: 0.7873 - val_loss: 0.0319 - val__diff_accuracy: 1.0000 - val__count_accuracy: 0.9000\n",
      "Epoch 37/50\n",
      "21/21 [==============================] - 9s 406ms/step - loss: 0.0351 - _diff_accuracy: 0.9208 - _count_accuracy: 0.9760 - val_loss: 0.0287 - val__diff_accuracy: 1.0000 - val__count_accuracy: 1.0000\n",
      "Epoch 38/50\n",
      "21/21 [==============================] - 9s 434ms/step - loss: 0.0394 - _diff_accuracy: 0.8975 - _count_accuracy: 0.9216 - val_loss: 0.0622 - val__diff_accuracy: 1.0000 - val__count_accuracy: 0.8000\n",
      "Epoch 39/50\n",
      "21/21 [==============================] - 9s 416ms/step - loss: 0.0388 - _diff_accuracy: 0.9448 - _count_accuracy: 0.8905 - val_loss: 0.0301 - val__diff_accuracy: 1.0000 - val__count_accuracy: 1.0000\n",
      "Epoch 40/50\n",
      "21/21 [==============================] - 9s 444ms/step - loss: 0.0491 - _diff_accuracy: 0.8825 - _count_accuracy: 0.8353 - val_loss: 0.0333 - val__diff_accuracy: 1.0000 - val__count_accuracy: 1.0000\n",
      "Epoch 41/50\n",
      "21/21 [==============================] - 9s 425ms/step - loss: 0.0526 - _diff_accuracy: 0.8985 - _count_accuracy: 0.8416 - val_loss: 0.0292 - val__diff_accuracy: 1.0000 - val__count_accuracy: 0.9500\n",
      "Epoch 42/50\n",
      "21/21 [==============================] - 9s 414ms/step - loss: 0.0457 - _diff_accuracy: 0.9065 - _count_accuracy: 0.8130 - val_loss: 0.0313 - val__diff_accuracy: 1.0000 - val__count_accuracy: 0.9500\n",
      "Epoch 43/50\n",
      "21/21 [==============================] - 9s 406ms/step - loss: 0.0405 - _diff_accuracy: 0.8904 - _count_accuracy: 0.8832 - val_loss: 0.0500 - val__diff_accuracy: 1.0000 - val__count_accuracy: 0.8000\n",
      "Epoch 44/50\n",
      "21/21 [==============================] - 9s 419ms/step - loss: 0.0357 - _diff_accuracy: 0.9377 - _count_accuracy: 0.9608 - val_loss: 0.0707 - val__diff_accuracy: 1.0000 - val__count_accuracy: 0.5500\n",
      "Epoch 45/50\n",
      "21/21 [==============================] - 9s 412ms/step - loss: 0.0408 - _diff_accuracy: 0.9608 - _count_accuracy: 0.9137 - val_loss: 0.0430 - val__diff_accuracy: 1.0000 - val__count_accuracy: 0.8000\n",
      "Epoch 46/50\n",
      "21/21 [==============================] - 9s 423ms/step - loss: 0.0544 - _diff_accuracy: 0.9368 - _count_accuracy: 0.8745 - val_loss: 0.0635 - val__diff_accuracy: 0.9000 - val__count_accuracy: 0.8500\n",
      "Epoch 47/50\n",
      "21/21 [==============================] - 9s 434ms/step - loss: 0.0505 - _diff_accuracy: 0.9688 - _count_accuracy: 0.8345 - val_loss: 0.1069 - val__diff_accuracy: 0.8000 - val__count_accuracy: 0.5500\n",
      "Epoch 48/50\n",
      "21/21 [==============================] - 9s 421ms/step - loss: 0.0616 - _diff_accuracy: 0.8904 - _count_accuracy: 0.8574 - val_loss: 0.0264 - val__diff_accuracy: 1.0000 - val__count_accuracy: 1.0000\n",
      "Epoch 49/50\n",
      "21/21 [==============================] - 9s 407ms/step - loss: 0.0349 - _diff_accuracy: 0.9376 - _count_accuracy: 0.9679 - val_loss: 0.0644 - val__diff_accuracy: 1.0000 - val__count_accuracy: 0.8000\n",
      "Epoch 50/50\n",
      "21/21 [==============================] - 9s 419ms/step - loss: 0.0322 - _diff_accuracy: 0.8906 - _count_accuracy: 0.9689 - val_loss: 0.0407 - val__diff_accuracy: 1.0000 - val__count_accuracy: 0.9000\n"
     ]
    },
    {
     "data": {
      "text/plain": [
       "<keras.callbacks.History at 0x7fee6691acc0>"
      ]
     },
     "execution_count": 9,
     "metadata": {},
     "output_type": "execute_result"
    }
   ],
   "source": [
    "# modify myloss, use pure version\n",
    "model.compile(optimizer=Adam(lr=1e-4), \n",
    "              loss=myloss(diff_weight=0.2, count_weight=0.8),\n",
    "              metrics=[diff_accuracy(), count_accuracy()])\n",
    "model.fit_generator(train_generator, steps_per_epoch=steps_train, epochs=50,\n",
    "                   validation_data=valid_generator, validation_steps=steps_valid)"
   ]
  },
  {
   "cell_type": "code",
   "execution_count": 10,
   "metadata": {
    "collapsed": false
   },
   "outputs": [
    {
     "name": "stdout",
     "output_type": "stream",
     "text": [
      "Epoch 1/50\n",
      "21/21 [==============================] - 15s 720ms/step - loss: 0.0264 - _diff_accuracy: 0.9296 - _count_accuracy: 0.9920 - val_loss: 0.0203 - val__diff_accuracy: 1.0000 - val__count_accuracy: 1.0000\n",
      "Epoch 2/50\n",
      "21/21 [==============================] - 9s 428ms/step - loss: 0.0222 - _diff_accuracy: 0.9689 - _count_accuracy: 1.0000 - val_loss: 0.0199 - val__diff_accuracy: 1.0000 - val__count_accuracy: 0.9500\n",
      "Epoch 3/50\n",
      "21/21 [==============================] - 9s 447ms/step - loss: 0.0197 - _diff_accuracy: 0.9688 - _count_accuracy: 0.9768 - val_loss: 0.0209 - val__diff_accuracy: 1.0000 - val__count_accuracy: 0.9500\n",
      "Epoch 4/50\n",
      "21/21 [==============================] - 9s 411ms/step - loss: 0.0238 - _diff_accuracy: 0.9840 - _count_accuracy: 0.9920 - val_loss: 0.0171 - val__diff_accuracy: 1.0000 - val__count_accuracy: 0.9500\n",
      "Epoch 5/50\n",
      "21/21 [==============================] - 8s 404ms/step - loss: 0.0240 - _diff_accuracy: 0.9296 - _count_accuracy: 0.9768 - val_loss: 0.0196 - val__diff_accuracy: 1.0000 - val__count_accuracy: 0.9500\n",
      "Epoch 6/50\n",
      "21/21 [==============================] - 9s 428ms/step - loss: 0.0464 - _diff_accuracy: 0.9768 - _count_accuracy: 0.9074 - val_loss: 0.0205 - val__diff_accuracy: 1.0000 - val__count_accuracy: 1.0000\n",
      "Epoch 7/50\n",
      "21/21 [==============================] - 9s 417ms/step - loss: 0.0630 - _diff_accuracy: 0.9529 - _count_accuracy: 0.9306 - val_loss: 0.0209 - val__diff_accuracy: 1.0000 - val__count_accuracy: 0.9000\n",
      "Epoch 8/50\n",
      "21/21 [==============================] - 9s 437ms/step - loss: 0.0214 - _diff_accuracy: 0.9537 - _count_accuracy: 0.9759 - val_loss: 0.0279 - val__diff_accuracy: 1.0000 - val__count_accuracy: 0.9000\n",
      "Epoch 9/50\n",
      "21/21 [==============================] - 9s 408ms/step - loss: 0.0209 - _diff_accuracy: 0.9377 - _count_accuracy: 1.0000 - val_loss: 0.0256 - val__diff_accuracy: 1.0000 - val__count_accuracy: 0.9500\n",
      "Epoch 10/50\n",
      "21/21 [==============================] - 9s 420ms/step - loss: 0.0202 - _diff_accuracy: 0.9457 - _count_accuracy: 0.9920 - val_loss: 0.0240 - val__diff_accuracy: 1.0000 - val__count_accuracy: 0.9500\n",
      "Epoch 11/50\n",
      "21/21 [==============================] - 9s 422ms/step - loss: 0.0247 - _diff_accuracy: 0.9457 - _count_accuracy: 0.9537 - val_loss: 0.0248 - val__diff_accuracy: 1.0000 - val__count_accuracy: 0.9500\n",
      "Epoch 12/50\n",
      "21/21 [==============================] - 9s 426ms/step - loss: 0.0237 - _diff_accuracy: 0.8993 - _count_accuracy: 0.9537 - val_loss: 0.0207 - val__diff_accuracy: 1.0000 - val__count_accuracy: 1.0000\n",
      "Epoch 13/50\n",
      "21/21 [==============================] - 8s 402ms/step - loss: 0.0164 - _diff_accuracy: 0.9768 - _count_accuracy: 1.0000 - val_loss: 0.0180 - val__diff_accuracy: 1.0000 - val__count_accuracy: 1.0000\n",
      "Epoch 14/50\n",
      "21/21 [==============================] - 9s 442ms/step - loss: 0.0199 - _diff_accuracy: 0.9768 - _count_accuracy: 0.9768 - val_loss: 0.0171 - val__diff_accuracy: 1.0000 - val__count_accuracy: 1.0000\n",
      "Epoch 15/50\n",
      "21/21 [==============================] - 9s 409ms/step - loss: 0.0194 - _diff_accuracy: 0.9376 - _count_accuracy: 0.9768 - val_loss: 0.0133 - val__diff_accuracy: 1.0000 - val__count_accuracy: 1.0000\n",
      "Epoch 16/50\n",
      "21/21 [==============================] - 9s 443ms/step - loss: 0.0187 - _diff_accuracy: 0.9528 - _count_accuracy: 0.9688 - val_loss: 0.0128 - val__diff_accuracy: 1.0000 - val__count_accuracy: 1.0000\n",
      "Epoch 17/50\n",
      "21/21 [==============================] - 8s 402ms/step - loss: 0.0295 - _diff_accuracy: 0.9768 - _count_accuracy: 0.9768 - val_loss: 0.0137 - val__diff_accuracy: 1.0000 - val__count_accuracy: 1.0000\n",
      "Epoch 18/50\n",
      "21/21 [==============================] - 9s 432ms/step - loss: 0.0216 - _diff_accuracy: 0.9457 - _count_accuracy: 0.9537 - val_loss: 0.0110 - val__diff_accuracy: 1.0000 - val__count_accuracy: 1.0000\n",
      "Epoch 19/50\n",
      "21/21 [==============================] - 9s 437ms/step - loss: 0.0175 - _diff_accuracy: 0.9688 - _count_accuracy: 1.0000 - val_loss: 0.0112 - val__diff_accuracy: 1.0000 - val__count_accuracy: 1.0000\n",
      "Epoch 20/50\n",
      "21/21 [==============================] - 9s 429ms/step - loss: 0.0157 - _diff_accuracy: 0.9305 - _count_accuracy: 1.0000 - val_loss: 0.0132 - val__diff_accuracy: 1.0000 - val__count_accuracy: 0.9500\n",
      "Epoch 21/50\n",
      "21/21 [==============================] - 9s 424ms/step - loss: 0.0224 - _diff_accuracy: 0.9688 - _count_accuracy: 0.9537 - val_loss: 0.0148 - val__diff_accuracy: 1.0000 - val__count_accuracy: 1.0000\n",
      "Epoch 22/50\n",
      "21/21 [==============================] - 8s 400ms/step - loss: 0.0152 - _diff_accuracy: 0.9537 - _count_accuracy: 0.9920 - val_loss: 0.0132 - val__diff_accuracy: 1.0000 - val__count_accuracy: 1.0000\n",
      "Epoch 23/50\n",
      "21/21 [==============================] - 9s 429ms/step - loss: 0.0178 - _diff_accuracy: 0.9600 - _count_accuracy: 0.9920 - val_loss: 0.0170 - val__diff_accuracy: 1.0000 - val__count_accuracy: 0.9500\n",
      "Epoch 24/50\n",
      "21/21 [==============================] - 9s 428ms/step - loss: 0.0148 - _diff_accuracy: 0.9688 - _count_accuracy: 1.0000 - val_loss: 0.0159 - val__diff_accuracy: 1.0000 - val__count_accuracy: 0.9500\n",
      "Epoch 25/50\n",
      "21/21 [==============================] - 8s 389ms/step - loss: 0.0188 - _diff_accuracy: 0.9688 - _count_accuracy: 1.0000 - val_loss: 0.0124 - val__diff_accuracy: 1.0000 - val__count_accuracy: 0.9500\n",
      "Epoch 26/50\n",
      "21/21 [==============================] - 9s 429ms/step - loss: 0.0311 - _diff_accuracy: 0.9225 - _count_accuracy: 0.9537 - val_loss: 0.0147 - val__diff_accuracy: 1.0000 - val__count_accuracy: 0.9500\n",
      "Epoch 27/50\n",
      "21/21 [==============================] - 9s 429ms/step - loss: 0.0148 - _diff_accuracy: 0.9457 - _count_accuracy: 0.9920 - val_loss: 0.0144 - val__diff_accuracy: 1.0000 - val__count_accuracy: 0.9500\n",
      "Epoch 28/50\n",
      "21/21 [==============================] - 9s 424ms/step - loss: 0.0169 - _diff_accuracy: 0.9608 - _count_accuracy: 1.0000 - val_loss: 0.0144 - val__diff_accuracy: 1.0000 - val__count_accuracy: 0.9500\n",
      "Epoch 29/50\n",
      "21/21 [==============================] - 9s 417ms/step - loss: 0.0148 - _diff_accuracy: 1.0000 - _count_accuracy: 1.0000 - val_loss: 0.0155 - val__diff_accuracy: 1.0000 - val__count_accuracy: 0.9500\n",
      "Epoch 30/50\n",
      "21/21 [==============================] - 9s 423ms/step - loss: 0.0155 - _diff_accuracy: 0.9688 - _count_accuracy: 1.0000 - val_loss: 0.0131 - val__diff_accuracy: 1.0000 - val__count_accuracy: 1.0000\n",
      "Epoch 31/50\n",
      "21/21 [==============================] - 9s 407ms/step - loss: 0.0152 - _diff_accuracy: 0.9305 - _count_accuracy: 1.0000 - val_loss: 0.0127 - val__diff_accuracy: 1.0000 - val__count_accuracy: 0.9500\n",
      "Epoch 32/50\n",
      "21/21 [==============================] - 9s 428ms/step - loss: 0.0133 - _diff_accuracy: 0.9768 - _count_accuracy: 1.0000 - val_loss: 0.0138 - val__diff_accuracy: 1.0000 - val__count_accuracy: 0.9500\n",
      "Epoch 33/50\n",
      "21/21 [==============================] - 9s 407ms/step - loss: 0.0146 - _diff_accuracy: 0.9457 - _count_accuracy: 1.0000 - val_loss: 0.0139 - val__diff_accuracy: 1.0000 - val__count_accuracy: 0.9500\n",
      "Epoch 34/50\n",
      "21/21 [==============================] - 9s 429ms/step - loss: 0.0146 - _diff_accuracy: 0.9768 - _count_accuracy: 1.0000 - val_loss: 0.0126 - val__diff_accuracy: 1.0000 - val__count_accuracy: 1.0000\n",
      "Epoch 35/50\n",
      "21/21 [==============================] - 9s 426ms/step - loss: 0.0162 - _diff_accuracy: 0.9305 - _count_accuracy: 1.0000 - val_loss: 0.0144 - val__diff_accuracy: 1.0000 - val__count_accuracy: 0.9500\n",
      "Epoch 36/50\n",
      "21/21 [==============================] - 9s 414ms/step - loss: 0.0166 - _diff_accuracy: 1.0000 - _count_accuracy: 1.0000 - val_loss: 0.0152 - val__diff_accuracy: 1.0000 - val__count_accuracy: 1.0000\n",
      "Epoch 37/50\n",
      "21/21 [==============================] - 9s 416ms/step - loss: 0.0156 - _diff_accuracy: 0.9768 - _count_accuracy: 0.9920 - val_loss: 0.0129 - val__diff_accuracy: 1.0000 - val__count_accuracy: 1.0000\n",
      "Epoch 38/50\n",
      "21/21 [==============================] - 9s 414ms/step - loss: 0.0196 - _diff_accuracy: 0.9457 - _count_accuracy: 1.0000 - val_loss: 0.0124 - val__diff_accuracy: 1.0000 - val__count_accuracy: 0.9500\n",
      "Epoch 39/50\n",
      "21/21 [==============================] - 9s 409ms/step - loss: 0.0202 - _diff_accuracy: 0.9456 - _count_accuracy: 0.9768 - val_loss: 0.0130 - val__diff_accuracy: 1.0000 - val__count_accuracy: 1.0000\n",
      "Epoch 40/50\n",
      "21/21 [==============================] - 9s 418ms/step - loss: 0.0155 - _diff_accuracy: 0.9688 - _count_accuracy: 1.0000 - val_loss: 0.0157 - val__diff_accuracy: 1.0000 - val__count_accuracy: 1.0000\n",
      "Epoch 41/50\n",
      "21/21 [==============================] - 9s 427ms/step - loss: 0.0151 - _diff_accuracy: 0.9768 - _count_accuracy: 1.0000 - val_loss: 0.0119 - val__diff_accuracy: 1.0000 - val__count_accuracy: 1.0000\n",
      "Epoch 42/50\n",
      "21/21 [==============================] - 9s 422ms/step - loss: 0.0134 - _diff_accuracy: 1.0000 - _count_accuracy: 1.0000 - val_loss: 0.0106 - val__diff_accuracy: 1.0000 - val__count_accuracy: 1.0000\n",
      "Epoch 43/50\n",
      "21/21 [==============================] - 9s 415ms/step - loss: 0.0151 - _diff_accuracy: 0.9537 - _count_accuracy: 1.0000 - val_loss: 0.0101 - val__diff_accuracy: 1.0000 - val__count_accuracy: 1.0000\n",
      "Epoch 44/50\n",
      "21/21 [==============================] - 9s 406ms/step - loss: 0.0337 - _diff_accuracy: 1.0000 - _count_accuracy: 0.9537 - val_loss: 0.0135 - val__diff_accuracy: 1.0000 - val__count_accuracy: 0.9500\n",
      "Epoch 45/50\n",
      "21/21 [==============================] - 8s 390ms/step - loss: 0.0185 - _diff_accuracy: 0.9688 - _count_accuracy: 0.9768 - val_loss: 0.0214 - val__diff_accuracy: 1.0000 - val__count_accuracy: 0.9000\n",
      "Epoch 46/50\n",
      "21/21 [==============================] - 9s 430ms/step - loss: 0.0164 - _diff_accuracy: 0.9920 - _count_accuracy: 0.9769 - val_loss: 0.0153 - val__diff_accuracy: 1.0000 - val__count_accuracy: 0.9000\n",
      "Epoch 47/50\n",
      "21/21 [==============================] - 9s 417ms/step - loss: 0.0150 - _diff_accuracy: 0.9537 - _count_accuracy: 1.0000 - val_loss: 0.0185 - val__diff_accuracy: 1.0000 - val__count_accuracy: 0.9500\n",
      "Epoch 48/50\n",
      "21/21 [==============================] - 9s 421ms/step - loss: 0.0128 - _diff_accuracy: 1.0000 - _count_accuracy: 1.0000 - val_loss: 0.0127 - val__diff_accuracy: 1.0000 - val__count_accuracy: 0.9500\n",
      "Epoch 49/50\n",
      "21/21 [==============================] - 9s 415ms/step - loss: 0.0133 - _diff_accuracy: 0.9688 - _count_accuracy: 1.0000 - val_loss: 0.0153 - val__diff_accuracy: 1.0000 - val__count_accuracy: 1.0000\n",
      "Epoch 50/50\n",
      "21/21 [==============================] - 9s 419ms/step - loss: 0.0141 - _diff_accuracy: 0.9305 - _count_accuracy: 1.0000 - val_loss: 0.0136 - val__diff_accuracy: 1.0000 - val__count_accuracy: 1.0000\n"
     ]
    },
    {
     "data": {
      "text/plain": [
       "<keras.callbacks.History at 0x7fee668946d8>"
      ]
     },
     "execution_count": 10,
     "metadata": {},
     "output_type": "execute_result"
    }
   ],
   "source": [
    "# modify myloss, use pure version\n",
    "model.compile(optimizer=Adam(lr=1e-5), \n",
    "              loss=myloss(diff_weight=0.2, count_weight=0.8),\n",
    "              metrics=[diff_accuracy(), count_accuracy()])\n",
    "model.fit_generator(train_generator, steps_per_epoch=steps_train, epochs=50,\n",
    "                   validation_data=valid_generator, validation_steps=steps_valid)"
   ]
  },
  {
   "cell_type": "code",
   "execution_count": 7,
   "metadata": {
    "collapsed": false
   },
   "outputs": [
    {
     "name": "stdout",
     "output_type": "stream",
     "text": [
      "Epoch 1/50\n",
      "21/21 [==============================] - 16s 770ms/step - loss: 3.7286 - _diff_accuracy: 0.0000e+00 - _count_accuracy: 0.2384 - val_loss: 1.9715 - val__diff_accuracy: 0.0000e+00 - val__count_accuracy: 0.2069\n",
      "Epoch 2/50\n",
      "21/21 [==============================] - 9s 432ms/step - loss: 0.6259 - _diff_accuracy: 0.0000e+00 - _count_accuracy: 0.2611 - val_loss: 7.2440 - val__diff_accuracy: 0.0000e+00 - val__count_accuracy: 0.2069\n",
      "Epoch 3/50\n",
      "21/21 [==============================] - 10s 455ms/step - loss: 0.4829 - _diff_accuracy: 0.0000e+00 - _count_accuracy: 0.3003 - val_loss: 3.1262 - val__diff_accuracy: 0.0000e+00 - val__count_accuracy: 0.2069\n",
      "Epoch 4/50\n",
      "21/21 [==============================] - 9s 441ms/step - loss: 0.5550 - _diff_accuracy: 0.0000e+00 - _count_accuracy: 0.2718 - val_loss: 4.3679 - val__diff_accuracy: 0.0000e+00 - val__count_accuracy: 0.1897\n",
      "Epoch 5/50\n",
      "21/21 [==============================] - 9s 420ms/step - loss: 0.3153 - _diff_accuracy: 0.0080 - _count_accuracy: 0.4465 - val_loss: 3.3264 - val__diff_accuracy: 0.0000e+00 - val__count_accuracy: 0.1897\n",
      "Epoch 6/50\n",
      "21/21 [==============================] - 9s 422ms/step - loss: 0.3096 - _diff_accuracy: 0.0963 - _count_accuracy: 0.4617 - val_loss: 0.8919 - val__diff_accuracy: 0.0000e+00 - val__count_accuracy: 0.2414\n",
      "Epoch 7/50\n",
      "21/21 [==============================] - 10s 469ms/step - loss: 0.2730 - _diff_accuracy: 0.5328 - _count_accuracy: 0.4537 - val_loss: 1.6987 - val__diff_accuracy: 0.6897 - val__count_accuracy: 0.2586\n",
      "Epoch 8/50\n",
      "21/21 [==============================] - 9s 436ms/step - loss: 0.1669 - _diff_accuracy: 0.7549 - _count_accuracy: 0.5642 - val_loss: 0.6939 - val__diff_accuracy: 0.7414 - val__count_accuracy: 0.2586\n",
      "Epoch 9/50\n",
      "21/21 [==============================] - 9s 428ms/step - loss: 0.1883 - _diff_accuracy: 0.8239 - _count_accuracy: 0.6378 - val_loss: 1.3605 - val__diff_accuracy: 0.8103 - val__count_accuracy: 0.1897\n",
      "Epoch 10/50\n",
      "21/21 [==============================] - 9s 433ms/step - loss: 0.1516 - _diff_accuracy: 0.7864 - _count_accuracy: 0.7401 - val_loss: 0.5600 - val__diff_accuracy: 0.7931 - val__count_accuracy: 0.2586\n",
      "Epoch 11/50\n",
      "21/21 [==============================] - 10s 453ms/step - loss: 0.1235 - _diff_accuracy: 0.8248 - _count_accuracy: 0.6458 - val_loss: 0.1236 - val__diff_accuracy: 0.7931 - val__count_accuracy: 0.6552\n",
      "Epoch 12/50\n",
      "21/21 [==============================] - 9s 438ms/step - loss: 0.1303 - _diff_accuracy: 0.7861 - _count_accuracy: 0.6845 - val_loss: 0.1096 - val__diff_accuracy: 0.8103 - val__count_accuracy: 0.6379\n",
      "Epoch 13/50\n",
      "21/21 [==============================] - 9s 447ms/step - loss: 0.1485 - _diff_accuracy: 0.8319 - _count_accuracy: 0.5746 - val_loss: 0.1371 - val__diff_accuracy: 0.7931 - val__count_accuracy: 0.7069\n",
      "Epoch 14/50\n",
      "21/21 [==============================] - 9s 447ms/step - loss: 0.1155 - _diff_accuracy: 0.8096 - _count_accuracy: 0.7178 - val_loss: 0.0769 - val__diff_accuracy: 0.7931 - val__count_accuracy: 0.8966\n",
      "Epoch 15/50\n",
      "21/21 [==============================] - 9s 446ms/step - loss: 0.0934 - _diff_accuracy: 0.7861 - _count_accuracy: 0.6524 - val_loss: 0.0643 - val__diff_accuracy: 0.8103 - val__count_accuracy: 0.9483\n",
      "Epoch 16/50\n",
      "21/21 [==============================] - 10s 454ms/step - loss: 0.0854 - _diff_accuracy: 0.7784 - _count_accuracy: 0.7178 - val_loss: 0.0691 - val__diff_accuracy: 0.7931 - val__count_accuracy: 0.9483\n",
      "Epoch 17/50\n",
      "21/21 [==============================] - 9s 428ms/step - loss: 0.1138 - _diff_accuracy: 0.8093 - _count_accuracy: 0.7665 - val_loss: 0.0556 - val__diff_accuracy: 0.7931 - val__count_accuracy: 0.9483\n",
      "Epoch 18/50\n",
      "21/21 [==============================] - 9s 449ms/step - loss: 0.0815 - _diff_accuracy: 0.7633 - _count_accuracy: 0.7713 - val_loss: 0.0541 - val__diff_accuracy: 0.7931 - val__count_accuracy: 0.8966\n",
      "Epoch 19/50\n",
      "21/21 [==============================] - 9s 452ms/step - loss: 0.0651 - _diff_accuracy: 0.8168 - _count_accuracy: 0.8122 - val_loss: 0.0569 - val__diff_accuracy: 0.7931 - val__count_accuracy: 0.9483\n",
      "Epoch 20/50\n",
      "21/21 [==============================] - 9s 437ms/step - loss: 0.0928 - _diff_accuracy: 0.8168 - _count_accuracy: 0.7810 - val_loss: 0.0467 - val__diff_accuracy: 0.7931 - val__count_accuracy: 1.0000\n",
      "Epoch 21/50\n",
      "21/21 [==============================] - 9s 445ms/step - loss: 0.0882 - _diff_accuracy: 0.7864 - _count_accuracy: 0.7553 - val_loss: 0.0648 - val__diff_accuracy: 0.7931 - val__count_accuracy: 0.7586\n",
      "Epoch 22/50\n",
      "21/21 [==============================] - 9s 443ms/step - loss: 0.0927 - _diff_accuracy: 0.7784 - _count_accuracy: 0.7081 - val_loss: 0.0687 - val__diff_accuracy: 0.8103 - val__count_accuracy: 0.8966\n",
      "Epoch 23/50\n",
      "21/21 [==============================] - 9s 451ms/step - loss: 0.0627 - _diff_accuracy: 0.8248 - _count_accuracy: 0.7962 - val_loss: 0.0593 - val__diff_accuracy: 0.8103 - val__count_accuracy: 0.9483\n",
      "Epoch 24/50\n",
      "21/21 [==============================] - 9s 446ms/step - loss: 0.0663 - _diff_accuracy: 0.7558 - _count_accuracy: 0.8832 - val_loss: 0.0375 - val__diff_accuracy: 0.8103 - val__count_accuracy: 1.0000\n",
      "Epoch 25/50\n",
      "21/21 [==============================] - 9s 436ms/step - loss: 0.0813 - _diff_accuracy: 0.7713 - _count_accuracy: 0.8105 - val_loss: 0.0436 - val__diff_accuracy: 0.7931 - val__count_accuracy: 1.0000\n",
      "Epoch 26/50\n",
      "21/21 [==============================] - 10s 457ms/step - loss: 0.0692 - _diff_accuracy: 0.7704 - _count_accuracy: 0.8193 - val_loss: 0.0847 - val__diff_accuracy: 0.8103 - val__count_accuracy: 0.7586\n",
      "Epoch 27/50\n",
      "21/21 [==============================] - 9s 429ms/step - loss: 0.0874 - _diff_accuracy: 0.8025 - _count_accuracy: 0.7553 - val_loss: 0.0458 - val__diff_accuracy: 0.8103 - val__count_accuracy: 0.9483\n",
      "Epoch 28/50\n",
      "21/21 [==============================] - 9s 449ms/step - loss: 0.0618 - _diff_accuracy: 0.7861 - _count_accuracy: 0.8494 - val_loss: 0.0528 - val__diff_accuracy: 0.7931 - val__count_accuracy: 0.8621\n",
      "Epoch 29/50\n",
      "21/21 [==============================] - 9s 406ms/step - loss: 0.0713 - _diff_accuracy: 0.8414 - _count_accuracy: 0.8975 - val_loss: 0.1088 - val__diff_accuracy: 0.7931 - val__count_accuracy: 0.5862\n",
      "Epoch 30/50\n",
      "21/21 [==============================] - 9s 444ms/step - loss: 0.0496 - _diff_accuracy: 0.8242 - _count_accuracy: 0.8675 - val_loss: 0.0452 - val__diff_accuracy: 0.8103 - val__count_accuracy: 0.9483\n",
      "Epoch 31/50\n",
      "21/21 [==============================] - 9s 446ms/step - loss: 0.0438 - _diff_accuracy: 0.8328 - _count_accuracy: 0.9288 - val_loss: 0.0325 - val__diff_accuracy: 0.8966 - val__count_accuracy: 0.9483\n",
      "Epoch 32/50\n",
      "21/21 [==============================] - 9s 432ms/step - loss: 0.0436 - _diff_accuracy: 0.8262 - _count_accuracy: 0.9447 - val_loss: 0.0420 - val__diff_accuracy: 0.9483 - val__count_accuracy: 0.9483\n",
      "Epoch 33/50\n",
      "21/21 [==============================] - 9s 434ms/step - loss: 0.0404 - _diff_accuracy: 0.8265 - _count_accuracy: 0.9920 - val_loss: 0.0283 - val__diff_accuracy: 0.9655 - val__count_accuracy: 1.0000\n",
      "Epoch 34/50\n",
      "21/21 [==============================] - 9s 438ms/step - loss: 0.0430 - _diff_accuracy: 0.8422 - _count_accuracy: 0.9064 - val_loss: 0.0315 - val__diff_accuracy: 0.9483 - val__count_accuracy: 0.9483\n",
      "Epoch 35/50\n",
      "21/21 [==============================] - 10s 458ms/step - loss: 0.0413 - _diff_accuracy: 0.9050 - _count_accuracy: 0.9218 - val_loss: 0.0364 - val__diff_accuracy: 0.9483 - val__count_accuracy: 0.9483\n",
      "Epoch 36/50\n",
      "21/21 [==============================] - 9s 450ms/step - loss: 0.0399 - _diff_accuracy: 0.7807 - _count_accuracy: 0.9759 - val_loss: 0.0251 - val__diff_accuracy: 0.9483 - val__count_accuracy: 1.0000\n",
      "Epoch 37/50\n",
      "21/21 [==============================] - 9s 427ms/step - loss: 0.0445 - _diff_accuracy: 0.8975 - _count_accuracy: 0.8984 - val_loss: 0.0390 - val__diff_accuracy: 0.9655 - val__count_accuracy: 0.8966\n",
      "Epoch 38/50\n",
      "21/21 [==============================] - 9s 427ms/step - loss: 0.0428 - _diff_accuracy: 0.8585 - _count_accuracy: 0.9368 - val_loss: 0.0243 - val__diff_accuracy: 0.9483 - val__count_accuracy: 1.0000\n",
      "Epoch 39/50\n",
      "21/21 [==============================] - 9s 438ms/step - loss: 0.0419 - _diff_accuracy: 0.8897 - _count_accuracy: 0.9360 - val_loss: 0.0259 - val__diff_accuracy: 0.9483 - val__count_accuracy: 1.0000\n",
      "Epoch 40/50\n",
      "21/21 [==============================] - 9s 432ms/step - loss: 0.0380 - _diff_accuracy: 0.8977 - _count_accuracy: 0.9457 - val_loss: 0.0268 - val__diff_accuracy: 0.9483 - val__count_accuracy: 1.0000\n",
      "Epoch 41/50\n",
      "21/21 [==============================] - 9s 441ms/step - loss: 0.0384 - _diff_accuracy: 0.8743 - _count_accuracy: 0.9688 - val_loss: 0.0496 - val__diff_accuracy: 0.9655 - val__count_accuracy: 0.8448\n",
      "Epoch 42/50\n",
      "21/21 [==============================] - 9s 447ms/step - loss: 0.0493 - _diff_accuracy: 0.8826 - _count_accuracy: 0.8818 - val_loss: 0.0222 - val__diff_accuracy: 0.9483 - val__count_accuracy: 1.0000\n",
      "Epoch 43/50\n",
      "21/21 [==============================] - 9s 434ms/step - loss: 0.0439 - _diff_accuracy: 0.8593 - _count_accuracy: 0.9225 - val_loss: 0.0335 - val__diff_accuracy: 0.9483 - val__count_accuracy: 0.9483\n",
      "Epoch 44/50\n",
      "21/21 [==============================] - 9s 448ms/step - loss: 0.0413 - _diff_accuracy: 0.8520 - _count_accuracy: 0.9519 - val_loss: 0.0230 - val__diff_accuracy: 0.9483 - val__count_accuracy: 1.0000\n",
      "Epoch 45/50\n",
      "21/21 [==============================] - 10s 459ms/step - loss: 0.0380 - _diff_accuracy: 0.9680 - _count_accuracy: 0.9297 - val_loss: 0.0302 - val__diff_accuracy: 0.9483 - val__count_accuracy: 1.0000\n",
      "Epoch 46/50\n",
      "21/21 [==============================] - 9s 440ms/step - loss: 0.0325 - _diff_accuracy: 0.9367 - _count_accuracy: 0.9759 - val_loss: 0.0290 - val__diff_accuracy: 1.0000 - val__count_accuracy: 1.0000\n",
      "Epoch 47/50\n",
      "21/21 [==============================] - 9s 433ms/step - loss: 0.0341 - _diff_accuracy: 0.8682 - _count_accuracy: 0.9760 - val_loss: 0.0213 - val__diff_accuracy: 1.0000 - val__count_accuracy: 1.0000\n",
      "Epoch 48/50\n",
      "21/21 [==============================] - 9s 429ms/step - loss: 0.0302 - _diff_accuracy: 0.9760 - _count_accuracy: 0.9608 - val_loss: 0.0212 - val__diff_accuracy: 1.0000 - val__count_accuracy: 1.0000\n",
      "Epoch 49/50\n",
      "21/21 [==============================] - 9s 444ms/step - loss: 0.0302 - _diff_accuracy: 0.9145 - _count_accuracy: 0.9920 - val_loss: 0.0201 - val__diff_accuracy: 1.0000 - val__count_accuracy: 1.0000\n",
      "Epoch 50/50\n",
      "21/21 [==============================] - 9s 433ms/step - loss: 0.0357 - _diff_accuracy: 0.9144 - _count_accuracy: 0.9296 - val_loss: 0.0245 - val__diff_accuracy: 1.0000 - val__count_accuracy: 0.9483\n"
     ]
    },
    {
     "data": {
      "text/plain": [
       "<keras.callbacks.History at 0x7f23c027c9e8>"
      ]
     },
     "execution_count": 7,
     "metadata": {},
     "output_type": "execute_result"
    }
   ],
   "source": [
    "# don't delete, mean_squared_error for count loss\n",
    "model.compile(optimizer=Adam(lr=1e-4), \n",
    "              loss=myloss(diff_weight=0.2, count_weight=0.8),\n",
    "              metrics=[diff_accuracy(), count_accuracy()])\n",
    "model.fit_generator(train_generator, steps_per_epoch=steps_train, epochs=50,\n",
    "                   validation_data=valid_generator, validation_steps=steps_valid)"
   ]
  },
  {
   "cell_type": "code",
   "execution_count": 8,
   "metadata": {
    "collapsed": false
   },
   "outputs": [
    {
     "name": "stdout",
     "output_type": "stream",
     "text": [
      "Epoch 1/50\n",
      "21/21 [==============================] - 16s 784ms/step - loss: 2.9395 - _diff_accuracy: 0.0000e+00 - _count_accuracy: 0.2073 - val_loss: 1.1085 - val__diff_accuracy: 0.0000e+00 - val__count_accuracy: 0.1897\n",
      "Epoch 2/50\n",
      "21/21 [==============================] - 9s 440ms/step - loss: 0.4493 - _diff_accuracy: 0.0000e+00 - _count_accuracy: 0.2148 - val_loss: 0.5342 - val__diff_accuracy: 0.0000e+00 - val__count_accuracy: 0.2069\n",
      "Epoch 3/50\n",
      "21/21 [==============================] - 9s 447ms/step - loss: 0.2402 - _diff_accuracy: 0.1752 - _count_accuracy: 0.3033 - val_loss: 0.3866 - val__diff_accuracy: 0.3448 - val__count_accuracy: 0.2586\n",
      "Epoch 4/50\n",
      "21/21 [==============================] - 9s 442ms/step - loss: 0.2543 - _diff_accuracy: 0.5071 - _count_accuracy: 0.3025 - val_loss: 0.3192 - val__diff_accuracy: 0.8103 - val__count_accuracy: 0.2414\n",
      "Epoch 5/50\n",
      "21/21 [==============================] - 9s 440ms/step - loss: 0.1272 - _diff_accuracy: 0.7864 - _count_accuracy: 0.4128 - val_loss: 0.1712 - val__diff_accuracy: 0.8103 - val__count_accuracy: 0.2931\n",
      "Epoch 6/50\n",
      "21/21 [==============================] - 9s 425ms/step - loss: 0.1228 - _diff_accuracy: 0.8173 - _count_accuracy: 0.4617 - val_loss: 0.2384 - val__diff_accuracy: 0.8103 - val__count_accuracy: 0.4828\n",
      "Epoch 7/50\n",
      "21/21 [==============================] - 9s 428ms/step - loss: 0.1138 - _diff_accuracy: 0.8007 - _count_accuracy: 0.3505 - val_loss: 0.2811 - val__diff_accuracy: 0.8103 - val__count_accuracy: 0.3448\n",
      "Epoch 8/50\n",
      "21/21 [==============================] - 9s 445ms/step - loss: 0.0800 - _diff_accuracy: 0.7864 - _count_accuracy: 0.5720 - val_loss: 0.2022 - val__diff_accuracy: 0.8103 - val__count_accuracy: 0.5345\n",
      "Epoch 9/50\n",
      "21/21 [==============================] - 9s 409ms/step - loss: 0.0823 - _diff_accuracy: 0.8164 - _count_accuracy: 0.5018 - val_loss: 0.5607 - val__diff_accuracy: 0.7931 - val__count_accuracy: 0.3448\n",
      "Epoch 10/50\n",
      "21/21 [==============================] - 9s 446ms/step - loss: 0.0955 - _diff_accuracy: 0.8091 - _count_accuracy: 0.4857 - val_loss: 0.1139 - val__diff_accuracy: 0.7931 - val__count_accuracy: 0.4138\n",
      "Epoch 11/50\n",
      "21/21 [==============================] - 9s 421ms/step - loss: 0.0907 - _diff_accuracy: 0.8012 - _count_accuracy: 0.6123 - val_loss: 0.0729 - val__diff_accuracy: 0.8103 - val__count_accuracy: 0.5517\n",
      "Epoch 12/50\n",
      "21/21 [==============================] - 9s 425ms/step - loss: 0.0799 - _diff_accuracy: 0.8096 - _count_accuracy: 0.5186 - val_loss: 0.0405 - val__diff_accuracy: 0.8103 - val__count_accuracy: 0.7931\n",
      "Epoch 13/50\n",
      "21/21 [==============================] - 9s 429ms/step - loss: 0.0698 - _diff_accuracy: 0.8087 - _count_accuracy: 0.5835 - val_loss: 0.0592 - val__diff_accuracy: 0.8103 - val__count_accuracy: 0.6897\n",
      "Epoch 14/50\n",
      "21/21 [==============================] - 9s 439ms/step - loss: 0.0502 - _diff_accuracy: 0.8016 - _count_accuracy: 0.7393 - val_loss: 0.0351 - val__diff_accuracy: 0.8103 - val__count_accuracy: 0.7069\n",
      "Epoch 15/50\n",
      "21/21 [==============================] - 9s 446ms/step - loss: 0.0610 - _diff_accuracy: 0.8016 - _count_accuracy: 0.7313 - val_loss: 0.0423 - val__diff_accuracy: 0.7931 - val__count_accuracy: 0.7586\n",
      "Epoch 16/50\n",
      "21/21 [==============================] - 9s 429ms/step - loss: 0.0488 - _diff_accuracy: 0.7941 - _count_accuracy: 0.6364 - val_loss: 0.0538 - val__diff_accuracy: 0.7931 - val__count_accuracy: 0.6552\n",
      "Epoch 17/50\n",
      "21/21 [==============================] - 9s 425ms/step - loss: 0.0493 - _diff_accuracy: 0.7713 - _count_accuracy: 0.7001 - val_loss: 0.0257 - val__diff_accuracy: 0.7931 - val__count_accuracy: 0.9483\n",
      "Epoch 18/50\n",
      "21/21 [==============================] - 9s 446ms/step - loss: 0.0541 - _diff_accuracy: 0.7553 - _count_accuracy: 0.7481 - val_loss: 0.0345 - val__diff_accuracy: 0.8103 - val__count_accuracy: 0.7414\n",
      "Epoch 19/50\n",
      "21/21 [==============================] - 9s 411ms/step - loss: 0.0384 - _diff_accuracy: 0.8173 - _count_accuracy: 0.7326 - val_loss: 0.0271 - val__diff_accuracy: 0.7931 - val__count_accuracy: 0.8966\n",
      "Epoch 20/50\n",
      "21/21 [==============================] - 9s 424ms/step - loss: 0.0419 - _diff_accuracy: 0.7713 - _count_accuracy: 0.8025 - val_loss: 0.0365 - val__diff_accuracy: 0.8103 - val__count_accuracy: 0.7414\n",
      "Epoch 21/50\n",
      "21/21 [==============================] - 9s 419ms/step - loss: 0.0375 - _diff_accuracy: 0.7709 - _count_accuracy: 0.7968 - val_loss: 0.0237 - val__diff_accuracy: 0.8448 - val__count_accuracy: 0.9483\n",
      "Epoch 22/50\n",
      "21/21 [==============================] - 9s 438ms/step - loss: 0.0561 - _diff_accuracy: 0.8105 - _count_accuracy: 0.6681 - val_loss: 0.0290 - val__diff_accuracy: 0.8448 - val__count_accuracy: 0.7586\n",
      "Epoch 23/50\n",
      "21/21 [==============================] - 9s 432ms/step - loss: 0.0575 - _diff_accuracy: 0.7481 - _count_accuracy: 0.7064 - val_loss: 0.0610 - val__diff_accuracy: 0.8448 - val__count_accuracy: 0.5000\n",
      "Epoch 24/50\n",
      "21/21 [==============================] - 9s 448ms/step - loss: 0.0381 - _diff_accuracy: 0.7882 - _count_accuracy: 0.8408 - val_loss: 0.0443 - val__diff_accuracy: 0.8448 - val__count_accuracy: 0.5345\n",
      "Epoch 25/50\n",
      "21/21 [==============================] - 9s 430ms/step - loss: 0.0361 - _diff_accuracy: 0.8025 - _count_accuracy: 0.8353 - val_loss: 0.0252 - val__diff_accuracy: 0.8448 - val__count_accuracy: 0.7586\n",
      "Epoch 26/50\n",
      "21/21 [==============================] - 9s 437ms/step - loss: 0.0293 - _diff_accuracy: 0.7799 - _count_accuracy: 0.8725 - val_loss: 0.0214 - val__diff_accuracy: 0.8448 - val__count_accuracy: 0.8966\n",
      "Epoch 27/50\n",
      "21/21 [==============================] - 9s 424ms/step - loss: 0.0315 - _diff_accuracy: 0.8096 - _count_accuracy: 0.7642 - val_loss: 0.0211 - val__diff_accuracy: 0.9138 - val__count_accuracy: 0.9483\n",
      "Epoch 28/50\n",
      "21/21 [==============================] - 9s 444ms/step - loss: 0.0359 - _diff_accuracy: 0.7953 - _count_accuracy: 0.8433 - val_loss: 0.0157 - val__diff_accuracy: 0.8966 - val__count_accuracy: 0.9483\n",
      "Epoch 29/50\n",
      "21/21 [==============================] - 9s 425ms/step - loss: 0.0319 - _diff_accuracy: 0.8185 - _count_accuracy: 0.7962 - val_loss: 0.0402 - val__diff_accuracy: 0.9138 - val__count_accuracy: 0.5000\n",
      "Epoch 30/50\n",
      "21/21 [==============================] - 9s 428ms/step - loss: 0.0230 - _diff_accuracy: 0.8728 - _count_accuracy: 0.8505 - val_loss: 0.0141 - val__diff_accuracy: 0.9483 - val__count_accuracy: 0.9483\n",
      "Epoch 31/50\n",
      "21/21 [==============================] - 9s 432ms/step - loss: 0.0272 - _diff_accuracy: 0.8200 - _count_accuracy: 0.8342 - val_loss: 0.0183 - val__diff_accuracy: 0.9655 - val__count_accuracy: 0.9138\n",
      "Epoch 32/50\n",
      "21/21 [==============================] - 9s 444ms/step - loss: 0.0190 - _diff_accuracy: 0.8754 - _count_accuracy: 0.9128 - val_loss: 0.0153 - val__diff_accuracy: 0.9483 - val__count_accuracy: 0.9483\n",
      "Epoch 33/50\n",
      "21/21 [==============================] - 9s 435ms/step - loss: 0.0752 - _diff_accuracy: 0.8824 - _count_accuracy: 0.6702 - val_loss: 0.1656 - val__diff_accuracy: 0.8103 - val__count_accuracy: 0.2414\n",
      "Epoch 34/50\n",
      "21/21 [==============================] - 9s 446ms/step - loss: 0.0299 - _diff_accuracy: 0.9129 - _count_accuracy: 0.7876 - val_loss: 0.0671 - val__diff_accuracy: 0.7931 - val__count_accuracy: 0.3448\n",
      "Epoch 35/50\n",
      "21/21 [==============================] - 9s 407ms/step - loss: 0.0341 - _diff_accuracy: 0.8815 - _count_accuracy: 0.7103 - val_loss: 0.0391 - val__diff_accuracy: 0.9483 - val__count_accuracy: 0.7414\n",
      "Epoch 36/50\n",
      "21/21 [==============================] - 10s 453ms/step - loss: 0.0278 - _diff_accuracy: 0.9048 - _count_accuracy: 0.6761 - val_loss: 0.0358 - val__diff_accuracy: 1.0000 - val__count_accuracy: 0.7586\n",
      "Epoch 37/50\n",
      "21/21 [==============================] - 9s 441ms/step - loss: 0.0359 - _diff_accuracy: 0.8674 - _count_accuracy: 0.7161 - val_loss: 0.0318 - val__diff_accuracy: 1.0000 - val__count_accuracy: 0.7586\n",
      "Epoch 38/50\n",
      "21/21 [==============================] - 9s 422ms/step - loss: 0.0216 - _diff_accuracy: 0.9519 - _count_accuracy: 0.7888 - val_loss: 0.0314 - val__diff_accuracy: 1.0000 - val__count_accuracy: 0.6552\n",
      "Epoch 39/50\n",
      "21/21 [==============================] - 9s 444ms/step - loss: 0.0256 - _diff_accuracy: 0.8834 - _count_accuracy: 0.8193 - val_loss: 0.0271 - val__diff_accuracy: 1.0000 - val__count_accuracy: 0.7414\n",
      "Epoch 40/50\n",
      "21/21 [==============================] - 9s 438ms/step - loss: 0.0260 - _diff_accuracy: 1.0000 - _count_accuracy: 0.7427 - val_loss: 0.0115 - val__diff_accuracy: 1.0000 - val__count_accuracy: 0.9483\n",
      "Epoch 41/50\n",
      "21/21 [==============================] - 9s 424ms/step - loss: 0.0162 - _diff_accuracy: 0.9208 - _count_accuracy: 0.8897 - val_loss: 0.0117 - val__diff_accuracy: 1.0000 - val__count_accuracy: 0.9655\n",
      "Epoch 42/50\n",
      "21/21 [==============================] - 9s 442ms/step - loss: 0.0216 - _diff_accuracy: 0.8754 - _count_accuracy: 0.8888 - val_loss: 0.0096 - val__diff_accuracy: 1.0000 - val__count_accuracy: 0.9483\n",
      "Epoch 43/50\n",
      "21/21 [==============================] - 9s 428ms/step - loss: 0.0130 - _diff_accuracy: 0.9688 - _count_accuracy: 0.8743 - val_loss: 0.0128 - val__diff_accuracy: 1.0000 - val__count_accuracy: 0.8448\n",
      "Epoch 44/50\n",
      "21/21 [==============================] - 9s 439ms/step - loss: 0.0217 - _diff_accuracy: 0.9377 - _count_accuracy: 0.8416 - val_loss: 0.0089 - val__diff_accuracy: 1.0000 - val__count_accuracy: 0.8966\n",
      "Epoch 45/50\n",
      "21/21 [==============================] - 9s 452ms/step - loss: 0.0154 - _diff_accuracy: 0.9537 - _count_accuracy: 0.8905 - val_loss: 0.0111 - val__diff_accuracy: 1.0000 - val__count_accuracy: 0.8103\n",
      "Epoch 46/50\n",
      "21/21 [==============================] - 9s 438ms/step - loss: 0.0113 - _diff_accuracy: 0.9688 - _count_accuracy: 0.9608 - val_loss: 0.0108 - val__diff_accuracy: 1.0000 - val__count_accuracy: 0.8966\n",
      "Epoch 47/50\n",
      "21/21 [==============================] - 9s 443ms/step - loss: 0.0133 - _diff_accuracy: 0.9920 - _count_accuracy: 0.8984 - val_loss: 0.0189 - val__diff_accuracy: 1.0000 - val__count_accuracy: 0.8621\n",
      "Epoch 48/50\n",
      "21/21 [==============================] - 10s 463ms/step - loss: 0.0123 - _diff_accuracy: 0.9074 - _count_accuracy: 0.9057 - val_loss: 0.0088 - val__diff_accuracy: 1.0000 - val__count_accuracy: 0.9483\n",
      "Epoch 49/50\n",
      "21/21 [==============================] - 9s 443ms/step - loss: 0.0151 - _diff_accuracy: 0.9840 - _count_accuracy: 0.8282 - val_loss: 0.0186 - val__diff_accuracy: 1.0000 - val__count_accuracy: 0.8276\n",
      "Epoch 50/50\n",
      "21/21 [==============================] - 9s 433ms/step - loss: 0.0164 - _diff_accuracy: 0.9840 - _count_accuracy: 0.8033 - val_loss: 0.0108 - val__diff_accuracy: 1.0000 - val__count_accuracy: 0.9483\n"
     ]
    },
    {
     "data": {
      "text/plain": [
       "<keras.callbacks.History at 0x7fefdc0ddba8>"
      ]
     },
     "execution_count": 8,
     "metadata": {},
     "output_type": "execute_result"
    }
   ],
   "source": [
    "# don't delete, original version, using int_regression_loss and coeff reducing countloss\n",
    "model.compile(optimizer=Adam(lr=1e-4), \n",
    "              loss=myloss(diff_weight=0.2, count_weight=0.8),\n",
    "              metrics=[diff_accuracy(), count_accuracy()])\n",
    "model.fit_generator(train_generator, steps_per_epoch=steps_train, epochs=50,\n",
    "                   validation_data=valid_generator, validation_steps=steps_valid)"
   ]
  },
  {
   "cell_type": "code",
   "execution_count": 7,
   "metadata": {
    "collapsed": false,
    "scrolled": true
   },
   "outputs": [
    {
     "name": "stdout",
     "output_type": "stream",
     "text": [
      "Epoch 1/50\n",
      "21/21 [==============================] - 16s 786ms/step - loss: 3.4979 - _diff_accuracy: 0.0000e+00 - _count_accuracy: 0.2153 - val_loss: 1.6997 - val__diff_accuracy: 0.0000e+00 - val__count_accuracy: 0.2069\n",
      "Epoch 2/50\n",
      "21/21 [==============================] - 9s 421ms/step - loss: 0.5871 - _diff_accuracy: 0.0000e+00 - _count_accuracy: 0.2219 - val_loss: 3.4440 - val__diff_accuracy: 0.0000e+00 - val__count_accuracy: 0.2069\n",
      "Epoch 3/50\n",
      "21/21 [==============================] - 9s 434ms/step - loss: 0.5340 - _diff_accuracy: 0.0000e+00 - _count_accuracy: 0.2927 - val_loss: 0.9266 - val__diff_accuracy: 0.0000e+00 - val__count_accuracy: 0.2069\n",
      "Epoch 4/50\n",
      "21/21 [==============================] - 9s 451ms/step - loss: 0.4538 - _diff_accuracy: 0.0000e+00 - _count_accuracy: 0.2962 - val_loss: 2.6640 - val__diff_accuracy: 0.0000e+00 - val__count_accuracy: 0.1897\n",
      "Epoch 5/50\n",
      "21/21 [==============================] - 9s 450ms/step - loss: 0.3280 - _diff_accuracy: 0.0632 - _count_accuracy: 0.3585 - val_loss: 2.1146 - val__diff_accuracy: 0.0000e+00 - val__count_accuracy: 0.1897\n",
      "Epoch 6/50\n",
      "21/21 [==============================] - 9s 448ms/step - loss: 0.2231 - _diff_accuracy: 0.6095 - _count_accuracy: 0.4377 - val_loss: 1.1010 - val__diff_accuracy: 0.7069 - val__count_accuracy: 0.2414\n",
      "Epoch 7/50\n",
      "21/21 [==============================] - 9s 434ms/step - loss: 0.2392 - _diff_accuracy: 0.6904 - _count_accuracy: 0.4545 - val_loss: 0.3623 - val__diff_accuracy: 0.7931 - val__count_accuracy: 0.2586\n",
      "Epoch 8/50\n",
      "21/21 [==============================] - 9s 435ms/step - loss: 0.1412 - _diff_accuracy: 0.7469 - _count_accuracy: 0.5419 - val_loss: 1.2306 - val__diff_accuracy: 0.7931 - val__count_accuracy: 0.2586\n",
      "Epoch 9/50\n",
      "21/21 [==============================] - 9s 445ms/step - loss: 0.2174 - _diff_accuracy: 0.8159 - _count_accuracy: 0.5346 - val_loss: 0.6643 - val__diff_accuracy: 0.8103 - val__count_accuracy: 0.3966\n",
      "Epoch 10/50\n",
      "21/21 [==============================] - 9s 433ms/step - loss: 0.1484 - _diff_accuracy: 0.7709 - _count_accuracy: 0.6203 - val_loss: 0.1361 - val__diff_accuracy: 0.7931 - val__count_accuracy: 0.5000\n",
      "Epoch 11/50\n",
      "21/21 [==============================] - 9s 432ms/step - loss: 0.1251 - _diff_accuracy: 0.8402 - _count_accuracy: 0.5983 - val_loss: 0.2306 - val__diff_accuracy: 0.7931 - val__count_accuracy: 0.5000\n",
      "Epoch 12/50\n",
      "21/21 [==============================] - 9s 437ms/step - loss: 0.1176 - _diff_accuracy: 0.7861 - _count_accuracy: 0.6212 - val_loss: 0.1084 - val__diff_accuracy: 0.7931 - val__count_accuracy: 0.5517\n",
      "Epoch 13/50\n",
      "21/21 [==============================] - 9s 436ms/step - loss: 0.1127 - _diff_accuracy: 0.8164 - _count_accuracy: 0.6863 - val_loss: 0.0827 - val__diff_accuracy: 0.8103 - val__count_accuracy: 0.6897\n",
      "Epoch 14/50\n",
      "21/21 [==============================] - 9s 421ms/step - loss: 0.0934 - _diff_accuracy: 0.7864 - _count_accuracy: 0.6841 - val_loss: 0.0959 - val__diff_accuracy: 0.8276 - val__count_accuracy: 0.6379\n",
      "Epoch 15/50\n",
      "21/21 [==============================] - 9s 445ms/step - loss: 0.0997 - _diff_accuracy: 0.7939 - _count_accuracy: 0.7645 - val_loss: 0.0758 - val__diff_accuracy: 0.7931 - val__count_accuracy: 0.6552\n",
      "Epoch 16/50\n",
      "21/21 [==============================] - 9s 422ms/step - loss: 0.0773 - _diff_accuracy: 0.7790 - _count_accuracy: 0.7941 - val_loss: 0.0529 - val__diff_accuracy: 0.7931 - val__count_accuracy: 0.8621\n",
      "Epoch 17/50\n",
      "21/21 [==============================] - 9s 450ms/step - loss: 0.0728 - _diff_accuracy: 0.8096 - _count_accuracy: 0.7250 - val_loss: 0.1012 - val__diff_accuracy: 0.7931 - val__count_accuracy: 0.5517\n",
      "Epoch 18/50\n",
      "21/21 [==============================] - 9s 408ms/step - loss: 0.0764 - _diff_accuracy: 0.8012 - _count_accuracy: 0.7870 - val_loss: 0.0619 - val__diff_accuracy: 0.7931 - val__count_accuracy: 0.7931\n",
      "Epoch 19/50\n",
      "21/21 [==============================] - 9s 451ms/step - loss: 0.0735 - _diff_accuracy: 0.8011 - _count_accuracy: 0.7477 - val_loss: 0.0657 - val__diff_accuracy: 0.7931 - val__count_accuracy: 0.8103\n",
      "Epoch 20/50\n",
      "21/21 [==============================] - 9s 433ms/step - loss: 0.1301 - _diff_accuracy: 0.8244 - _count_accuracy: 0.6622 - val_loss: 0.0774 - val__diff_accuracy: 0.7931 - val__count_accuracy: 0.8103\n",
      "Epoch 21/50\n",
      "21/21 [==============================] - 9s 426ms/step - loss: 0.0881 - _diff_accuracy: 0.7793 - _count_accuracy: 0.7784 - val_loss: 0.0841 - val__diff_accuracy: 0.7931 - val__count_accuracy: 0.6897\n",
      "Epoch 22/50\n",
      "21/21 [==============================] - 9s 452ms/step - loss: 0.0850 - _diff_accuracy: 0.7704 - _count_accuracy: 0.7010 - val_loss: 0.0543 - val__diff_accuracy: 0.8448 - val__count_accuracy: 0.7586\n",
      "Epoch 23/50\n",
      "21/21 [==============================] - 9s 430ms/step - loss: 0.0757 - _diff_accuracy: 0.7941 - _count_accuracy: 0.7237 - val_loss: 0.0606 - val__diff_accuracy: 0.9483 - val__count_accuracy: 0.7586\n",
      "Epoch 24/50\n",
      "21/21 [==============================] - 9s 424ms/step - loss: 0.0520 - _diff_accuracy: 0.8736 - _count_accuracy: 0.7970 - val_loss: 0.0340 - val__diff_accuracy: 0.9483 - val__count_accuracy: 0.9138\n",
      "Epoch 25/50\n",
      "21/21 [==============================] - 9s 418ms/step - loss: 0.0513 - _diff_accuracy: 0.8119 - _count_accuracy: 0.8743 - val_loss: 0.0392 - val__diff_accuracy: 0.9483 - val__count_accuracy: 0.8966\n",
      "Epoch 26/50\n",
      "21/21 [==============================] - 9s 450ms/step - loss: 0.0519 - _diff_accuracy: 0.8650 - _count_accuracy: 0.8810 - val_loss: 0.0305 - val__diff_accuracy: 0.9483 - val__count_accuracy: 0.9483\n",
      "Epoch 27/50\n",
      "21/21 [==============================] - 9s 436ms/step - loss: 0.0470 - _diff_accuracy: 0.8425 - _count_accuracy: 0.8185 - val_loss: 0.0539 - val__diff_accuracy: 0.9483 - val__count_accuracy: 0.7931\n",
      "Epoch 28/50\n",
      "21/21 [==============================] - 9s 435ms/step - loss: 0.0410 - _diff_accuracy: 0.8663 - _count_accuracy: 0.9144 - val_loss: 0.0479 - val__diff_accuracy: 0.9483 - val__count_accuracy: 0.8448\n",
      "Epoch 29/50\n",
      "21/21 [==============================] - 9s 425ms/step - loss: 0.0576 - _diff_accuracy: 0.8888 - _count_accuracy: 0.8273 - val_loss: 0.0356 - val__diff_accuracy: 0.9483 - val__count_accuracy: 0.9655\n",
      "Epoch 30/50\n",
      "21/21 [==============================] - 9s 422ms/step - loss: 0.0486 - _diff_accuracy: 0.9046 - _count_accuracy: 0.7807 - val_loss: 0.0261 - val__diff_accuracy: 0.9483 - val__count_accuracy: 0.9483\n",
      "Epoch 31/50\n",
      "21/21 [==============================] - 9s 424ms/step - loss: 0.0523 - _diff_accuracy: 0.8897 - _count_accuracy: 0.8665 - val_loss: 0.0336 - val__diff_accuracy: 0.9483 - val__count_accuracy: 0.9483\n",
      "Epoch 32/50\n",
      "21/21 [==============================] - 9s 431ms/step - loss: 0.0348 - _diff_accuracy: 0.8745 - _count_accuracy: 0.9368 - val_loss: 0.0609 - val__diff_accuracy: 0.9483 - val__count_accuracy: 0.6379\n",
      "Epoch 33/50\n",
      "21/21 [==============================] - 9s 413ms/step - loss: 0.0865 - _diff_accuracy: 0.8895 - _count_accuracy: 0.8137 - val_loss: 0.2469 - val__diff_accuracy: 0.9483 - val__count_accuracy: 0.4483\n",
      "Epoch 34/50\n",
      "21/21 [==============================] - 9s 428ms/step - loss: 0.0508 - _diff_accuracy: 0.8665 - _count_accuracy: 0.8576 - val_loss: 0.0762 - val__diff_accuracy: 0.8966 - val__count_accuracy: 0.7069\n",
      "Epoch 35/50\n",
      "21/21 [==============================] - 9s 430ms/step - loss: 0.0504 - _diff_accuracy: 0.8665 - _count_accuracy: 0.8496 - val_loss: 0.0575 - val__diff_accuracy: 0.8966 - val__count_accuracy: 0.6552\n",
      "Epoch 36/50\n",
      "21/21 [==============================] - 9s 426ms/step - loss: 0.0484 - _diff_accuracy: 0.9128 - _count_accuracy: 0.8176 - val_loss: 0.0311 - val__diff_accuracy: 0.9483 - val__count_accuracy: 1.0000\n",
      "Epoch 37/50\n",
      "21/21 [==============================] - 9s 445ms/step - loss: 0.0301 - _diff_accuracy: 0.9128 - _count_accuracy: 0.9377 - val_loss: 0.0196 - val__diff_accuracy: 0.9483 - val__count_accuracy: 1.0000\n",
      "Epoch 38/50\n",
      "21/21 [==============================] - 9s 438ms/step - loss: 0.0391 - _diff_accuracy: 0.9368 - _count_accuracy: 0.9065 - val_loss: 0.0240 - val__diff_accuracy: 0.9483 - val__count_accuracy: 0.9483\n",
      "Epoch 39/50\n",
      "21/21 [==============================] - 9s 446ms/step - loss: 0.0384 - _diff_accuracy: 0.9055 - _count_accuracy: 0.8520 - val_loss: 0.0301 - val__diff_accuracy: 0.9483 - val__count_accuracy: 0.8448\n",
      "Epoch 40/50\n",
      "21/21 [==============================] - 9s 434ms/step - loss: 0.0409 - _diff_accuracy: 0.8825 - _count_accuracy: 0.8513 - val_loss: 0.0593 - val__diff_accuracy: 0.9483 - val__count_accuracy: 0.8103\n",
      "Epoch 41/50\n",
      "21/21 [==============================] - 9s 439ms/step - loss: 0.0359 - _diff_accuracy: 0.9137 - _count_accuracy: 0.8736 - val_loss: 0.0436 - val__diff_accuracy: 0.9483 - val__count_accuracy: 0.7931\n",
      "Epoch 42/50\n",
      "21/21 [==============================] - 9s 444ms/step - loss: 0.0395 - _diff_accuracy: 0.8985 - _count_accuracy: 0.8888 - val_loss: 0.0162 - val__diff_accuracy: 1.0000 - val__count_accuracy: 1.0000\n",
      "Epoch 43/50\n",
      "21/21 [==============================] - 9s 421ms/step - loss: 0.0346 - _diff_accuracy: 0.8512 - _count_accuracy: 0.9135 - val_loss: 0.0269 - val__diff_accuracy: 1.0000 - val__count_accuracy: 0.9483\n",
      "Epoch 44/50\n",
      "21/21 [==============================] - 9s 440ms/step - loss: 0.0260 - _diff_accuracy: 0.9145 - _count_accuracy: 0.9137 - val_loss: 0.0243 - val__diff_accuracy: 1.0000 - val__count_accuracy: 0.8966\n",
      "Epoch 45/50\n",
      "21/21 [==============================] - 9s 431ms/step - loss: 0.0351 - _diff_accuracy: 0.9137 - _count_accuracy: 0.8513 - val_loss: 0.0394 - val__diff_accuracy: 1.0000 - val__count_accuracy: 0.8448\n",
      "Epoch 46/50\n",
      "21/21 [==============================] - 9s 441ms/step - loss: 0.0305 - _diff_accuracy: 0.9608 - _count_accuracy: 0.9759 - val_loss: 0.0540 - val__diff_accuracy: 1.0000 - val__count_accuracy: 0.7069\n",
      "Epoch 47/50\n",
      "21/21 [==============================] - 9s 424ms/step - loss: 0.0326 - _diff_accuracy: 0.8985 - _count_accuracy: 0.9057 - val_loss: 0.0446 - val__diff_accuracy: 1.0000 - val__count_accuracy: 0.9138\n",
      "Epoch 48/50\n",
      "21/21 [==============================] - 9s 434ms/step - loss: 0.0216 - _diff_accuracy: 0.9145 - _count_accuracy: 0.9768 - val_loss: 0.0309 - val__diff_accuracy: 1.0000 - val__count_accuracy: 1.0000\n",
      "Epoch 49/50\n",
      "21/21 [==============================] - 9s 431ms/step - loss: 0.0287 - _diff_accuracy: 0.9207 - _count_accuracy: 0.8913 - val_loss: 0.0180 - val__diff_accuracy: 1.0000 - val__count_accuracy: 1.0000\n",
      "Epoch 50/50\n",
      "21/21 [==============================] - 9s 429ms/step - loss: 0.0294 - _diff_accuracy: 0.9840 - _count_accuracy: 0.9137 - val_loss: 0.0102 - val__diff_accuracy: 1.0000 - val__count_accuracy: 1.0000\n"
     ]
    },
    {
     "data": {
      "text/plain": [
       "<keras.callbacks.History at 0x7fc2adb7f2e8>"
      ]
     },
     "execution_count": 7,
     "metadata": {},
     "output_type": "execute_result"
    }
   ],
   "source": [
    "# don't delete, modified version, using mask to count countloss and reduce thresold to 0.0025\n",
    "model.compile(optimizer=Adam(lr=1e-4), \n",
    "              loss=myloss(diff_weight=0.2, count_weight=0.8),\n",
    "              metrics=[diff_accuracy(), count_accuracy()])\n",
    "model.fit_generator(train_generator, steps_per_epoch=steps_train, epochs=50,\n",
    "                   validation_data=valid_generator, validation_steps=steps_valid)"
   ]
  },
  {
   "cell_type": "code",
   "execution_count": 8,
   "metadata": {
    "collapsed": false
   },
   "outputs": [
    {
     "name": "stdout",
     "output_type": "stream",
     "text": [
      "model saved!\n"
     ]
    }
   ],
   "source": [
    "model.save(\"savemodel/\"+modelname+\".h5\")\n",
    "print(\"model saved!\")"
   ]
  },
  {
   "cell_type": "markdown",
   "metadata": {},
   "source": [
    "## （2） epoch 2，学习率1e-5，使用RMSprop"
   ]
  },
  {
   "cell_type": "code",
   "execution_count": null,
   "metadata": {
    "collapsed": false,
    "scrolled": true
   },
   "outputs": [],
   "source": [
    "model.compile(optimizer=RMSprop(lr=1e-5), loss='categorical_crossentropy', metrics=['accuracy'])\n",
    "model.fit_generator(train_generator, steps_per_epoch=steps_train_sample, epochs=1,\n",
    "                   validation_data=valid_generator, validation_steps=steps_valid_sample)"
   ]
  },
  {
   "cell_type": "code",
   "execution_count": null,
   "metadata": {
    "collapsed": false
   },
   "outputs": [],
   "source": [
    "model.save(\"models/\"+modelname+\"-2.h5\")\n",
    "print(\"model saved!\")"
   ]
  },
  {
   "cell_type": "markdown",
   "metadata": {},
   "source": [
    "## （3） epoch 3，学习率1e-6，使用RMSprop"
   ]
  },
  {
   "cell_type": "code",
   "execution_count": null,
   "metadata": {
    "collapsed": false
   },
   "outputs": [],
   "source": [
    "model.compile(optimizer=RMSprop(lr=1e-6), loss='categorical_crossentropy', metrics=['accuracy'])\n",
    "model.fit_generator(train_generator, steps_per_epoch=steps_train_sample, epochs=1,\n",
    "                   validation_data=valid_generator, validation_steps=steps_valid_sample)"
   ]
  },
  {
   "cell_type": "code",
   "execution_count": null,
   "metadata": {
    "collapsed": false
   },
   "outputs": [],
   "source": [
    "model.save(\"models/\"+modelname+\"-3.h5\")\n",
    "print(\"model saved!\")"
   ]
  },
  {
   "cell_type": "markdown",
   "metadata": {},
   "source": [
    "## （4） epoch 4，学习率1e-6，使用RMSprop"
   ]
  },
  {
   "cell_type": "code",
   "execution_count": null,
   "metadata": {
    "collapsed": false
   },
   "outputs": [],
   "source": [
    "model.compile(optimizer=RMSprop(lr=1e-6), loss='categorical_crossentropy', metrics=['accuracy'])\n",
    "model.fit_generator(train_generator, steps_per_epoch=steps_train_sample, epochs=1,\n",
    "                   validation_data=valid_generator, validation_steps=steps_valid_sample)"
   ]
  },
  {
   "cell_type": "code",
   "execution_count": null,
   "metadata": {
    "collapsed": false
   },
   "outputs": [],
   "source": [
    "model.save(\"models/\"+modelname+\"-4.h5\")\n",
    "print(\"model saved!\")"
   ]
  },
  {
   "cell_type": "markdown",
   "metadata": {},
   "source": [
    "# 5 测试模型"
   ]
  },
  {
   "cell_type": "code",
   "execution_count": 1,
   "metadata": {
    "collapsed": false
   },
   "outputs": [
    {
     "name": "stderr",
     "output_type": "stream",
     "text": [
      "Using TensorFlow backend.\n"
     ]
    },
    {
     "name": "stdout",
     "output_type": "stream",
     "text": [
      "import done\n",
      "steps_train = 21\n",
      "steps_valid = 11\n",
      "Found 20 images.\n",
      "Found 20 images.\n",
      "Found 20 images.\n"
     ]
    }
   ],
   "source": [
    "import os\n",
    "import cv2\n",
    "import glob\n",
    "import numpy as np\n",
    "import pandas as pd\n",
    "\n",
    "# seed\n",
    "np.random.seed(2018)\n",
    "\n",
    "from keras.optimizers import *\n",
    "from model.coremodel import coremodel\n",
    "from dataload.my_image import MyImageDataGenerator\n",
    "from loss import myloss\n",
    "from metric import diff_accuracy, count_accuracy\n",
    "\n",
    "import tensorflow as tf\n",
    "from keras.models import load_model\n",
    "print(\"import done\")\n",
    "\n",
    "# test\n",
    "basedir = \"/home/ubuntu/JupyterNotebook/columncount/data\"\n",
    "basemodel_name = 'inception_v3'\n",
    "model_image_size = (480, 640)\n",
    "# define prerpocess_input\n",
    "from keras.applications.xception import preprocess_input as preprocess_input_ception\n",
    "from keras.applications.resnet50 import preprocess_input as preprocess_input_resnet\n",
    "if basemodel_name == 'resnet50':\n",
    "    preprocess_input = preprocess_input_resnet\n",
    "elif basemodel_name == 'xception' or 'inception_v3' or 'inception_resnet_v2':\n",
    "    preprocess_input = preprocess_input_ception\n",
    "else:\n",
    "    print('basemodel_name not defined！')\n",
    "    raise NameError\n",
    "\n",
    "\n",
    "modelname = basemodel_name + '_20180122'\n",
    "\n",
    "model = coremodel(basemodel_name, model_image_size)\n",
    "model.load_weights(\"savemodel/\"+modelname+\".h5\")"
   ]
  },
  {
   "cell_type": "code",
   "execution_count": 19,
   "metadata": {
    "collapsed": false
   },
   "outputs": [
    {
     "name": "stdout",
     "output_type": "stream",
     "text": [
      "Found 26 images.\n"
     ]
    }
   ],
   "source": [
    "gen = MyImageDataGenerator(preprocessing_function=preprocess_input)\n",
    "test_batch_size = 1\n",
    "test_generator = gen.myflow_from_directory(os.path.join(basedir,\"test\"),  model_image_size,\n",
    "                                         shuffle=False, batch_size=test_batch_size)\n",
    "steps_test = test_generator.samples"
   ]
  },
  {
   "cell_type": "code",
   "execution_count": 12,
   "metadata": {
    "collapsed": false
   },
   "outputs": [],
   "source": [
    "from postprocess import postprocess"
   ]
  },
  {
   "cell_type": "code",
   "execution_count": 17,
   "metadata": {
    "collapsed": false,
    "scrolled": true
   },
   "outputs": [],
   "source": [
    "pred = model.predict_generator(test_generator, steps=steps_test)"
   ]
  },
  {
   "cell_type": "code",
   "execution_count": 10,
   "metadata": {
    "collapsed": true
   },
   "outputs": [],
   "source": [
    "output = open(\"pred.npy\", 'wb')"
   ]
  },
  {
   "cell_type": "code",
   "execution_count": 11,
   "metadata": {
    "collapsed": true
   },
   "outputs": [],
   "source": [
    "np.save(output, pred)"
   ]
  },
  {
   "cell_type": "code",
   "execution_count": 12,
   "metadata": {
    "collapsed": true
   },
   "outputs": [],
   "source": [
    "output2 = open(\"pred.npy\", 'rb')"
   ]
  },
  {
   "cell_type": "code",
   "execution_count": 13,
   "metadata": {
    "collapsed": false
   },
   "outputs": [],
   "source": [
    "pred = np.load(output2)"
   ]
  },
  {
   "cell_type": "code",
   "execution_count": 20,
   "metadata": {
    "collapsed": false
   },
   "outputs": [
    {
     "data": {
      "text/plain": [
       "[3.2839885644363958, 0.9230769230769231, 0.07692307692307693]"
      ]
     },
     "execution_count": 20,
     "metadata": {},
     "output_type": "execute_result"
    }
   ],
   "source": [
    "model.evaluate_generator(test_generator)"
   ]
  },
  {
   "cell_type": "code",
   "execution_count": 21,
   "metadata": {
    "collapsed": false
   },
   "outputs": [
    {
     "name": "stdout",
     "output_type": "stream",
     "text": [
      "[ 0.00191854  0.00051446  0.00061891  0.00314093  0.00839827  0.00230077\n",
      "  0.00072997  0.02627406  0.04819659  0.01313617  0.05914733  0.05008034\n",
      " -0.03089805  0.03582655]\n",
      "[0 0 0 0 0 0 0]\n",
      "[0 0 0 0 0 0 0]\n",
      "False\n",
      "[ 0.00200388  0.00173123  0.00118879  0.00390543  0.01935062  0.00411487\n",
      "  0.00136841 -0.06444988 -0.02496949  1.0679735   1.0667675   1.0052658\n",
      "  1.0383526   1.0452452 ]\n",
      "[0 0 0 0 0 0 0]\n",
      "[0 0 1 1 1 1 1]\n",
      "False\n",
      "[2.5290546e-03 5.1362501e-03 1.9294573e-03 5.5546826e-03 1.5303645e-02\n",
      " 6.8541118e-03 2.3853637e-03 9.2744172e-01 9.4058186e-01 9.7306013e-01\n",
      " 1.0314002e+00 9.1946715e-01 1.9979608e+00 2.0549788e+00]\n",
      "[0 0 0 0 0 0 0]\n",
      "[1 1 1 1 1 2 2]\n",
      "False\n",
      "[3.3434040e-03 1.1625540e-02 5.6537050e-03 8.3015012e-03 5.7942409e-02\n",
      " 1.6781360e-02 2.7471846e-03 1.9545995e+00 1.8976123e+00 9.7533202e-01\n",
      " 9.6496820e-01 1.8861125e+00 1.9644408e+00 3.1271088e+00]\n",
      "[0 0 0 0 0 0 0]\n",
      "[2 2 1 1 2 2 3]\n",
      "False\n",
      "[9.4842445e-03 1.4539719e-02 2.3349155e-02 2.3961572e-02 9.0636718e-01\n",
      " 2.2620045e-01 2.9632866e-03 2.0958571e+00 2.0079033e+00 9.9801534e-01\n",
      " 1.0810786e+00 2.9645138e+00 9.0397644e-01 3.0153210e+00]\n",
      "[0 0 0 0 1 0 0]\n",
      "[2 2 1 1 3 1 3]\n",
      "True\n",
      "[1.6351030e-03 6.8602166e-03 2.9961972e-03 4.7799177e-03 2.7066547e-02\n",
      " 3.2645613e-02 2.2042056e-03 2.9732003e+00 2.8038790e+00 1.9488360e+00\n",
      " 1.9387800e+00 1.8527839e+00 3.0181956e+00 3.1103442e+00]\n",
      "[0 0 0 0 0 0 0]\n",
      "[3 3 2 2 2 3 3]\n",
      "False\n",
      "[4.6848524e-03 3.3086999e-03 1.1825747e-02 1.8259918e-02 9.5787722e-01\n",
      " 9.4482756e-01 1.3696286e-03 3.1647942e+00 3.1400959e+00 2.0084746e+00\n",
      " 2.1582024e+00 3.0823081e+00 2.2203016e+00 3.1986725e+00]\n",
      "[0 0 0 0 1 1 0]\n",
      "[3 3 2 2 3 2 3]\n",
      "True\n",
      "[1.0792958e-03 5.6583979e-03 2.5886884e-03 3.3623355e-03 2.2566468e-02\n",
      " 4.7453001e-02 1.5521131e-03 3.9372602e+00 4.8539262e+00 1.8631344e+00\n",
      " 1.9083266e+00 2.8805966e+00 2.8786628e+00 2.9923508e+00]\n",
      "[0 0 0 0 0 0 0]\n",
      "[4 5 2 2 3 3 3]\n",
      "False\n",
      "[6.7296054e-04 5.6467149e-03 2.1200820e-03 2.5361448e-03 1.3647333e-02\n",
      " 3.0955276e-02 9.4105460e-04 3.9058256e+00 5.8403797e+00 1.8966495e+00\n",
      " 1.9300125e+00 3.8691995e+00 3.9244630e+00 3.9196928e+00]\n",
      "[0 0 0 0 0 0 0]\n",
      "[4 6 2 2 4 4 4]\n",
      "False\n",
      "[2.1666590e-04 2.8889682e-03 1.0097303e-03 1.2489597e-03 1.2936148e-02\n",
      " 1.5566672e-02 4.6396995e-04 5.0665979e+00 5.8951268e+00 2.9732397e+00\n",
      " 3.0352275e+00 4.9668446e+00 3.9474630e+00 5.0451584e+00]\n",
      "[0 0 0 0 0 0 0]\n",
      "[5 6 3 3 5 4 5]\n",
      "False\n",
      "[1.1469579e-04 2.4006525e-03 6.0651894e-04 1.0786323e-03 4.4519943e-03\n",
      " 1.5279304e-02 4.0270915e-04 4.7989993e+00 7.7364340e+00 2.8608718e+00\n",
      " 2.9313848e+00 4.8560047e+00 4.8310566e+00 4.8419495e+00]\n",
      "[0 0 0 0 0 0 0]\n",
      "[5 8 3 3 5 5 5]\n",
      "False\n",
      "[2.3125696e-04 2.7506000e-03 9.5023413e-04 1.4650674e-03 7.8748185e-03\n",
      " 3.4025360e-02 6.6321233e-04 4.9115257e+00 6.7564797e+00 2.9149480e+00\n",
      " 2.9469030e+00 3.8032861e+00 3.8439522e+00 3.8633883e+00]\n",
      "[0 0 0 0 0 0 0]\n",
      "[5 7 3 3 4 4 4]\n",
      "False\n",
      "[4.5720086e-04 2.9680452e-03 1.6200676e-03 2.4178226e-03 1.7676985e-02\n",
      " 5.9922986e-02 1.0430472e-03 3.9556746e+00 5.9577456e+00 2.9344425e+00\n",
      " 3.0052664e+00 4.0895071e+00 2.8770187e+00 2.9163797e+00]\n",
      "[0 0 0 0 0 0 0]\n",
      "[4 6 3 3 4 3 3]\n",
      "False\n",
      "[3.9642971e-04 1.4693302e-03 1.1765637e-03 2.0162007e-03 6.7112394e-02\n",
      " 9.8548698e-01 3.5901304e-04 4.1966667e+00 6.1219835e+00 3.0969477e+00\n",
      " 3.2319448e+00 2.9037907e+00 4.4039350e+00 3.1705952e+00]\n",
      "[0 0 0 0 0 1 0]\n",
      "[4 6 3 3 3 4 3]\n",
      "True\n",
      "[1.8396361e-03 7.8825671e-03 4.0688138e-03 5.1823896e-03 4.0359084e-02\n",
      " 6.0112678e-02 1.8987418e-03 4.0091991e+00 3.8254616e+00 1.8946923e+00\n",
      " 1.9400970e+00 2.9355049e+00 2.9135585e+00 2.9848263e+00]\n",
      "[0 0 0 0 0 0 0]\n",
      "[4 4 2 2 3 3 3]\n",
      "False\n",
      "[1.6207226e-03 4.7067371e-03 1.8688943e-03 4.2390097e-03 1.5627855e-02\n",
      " 1.3793108e-02 3.1618252e-03 2.8381829e+00 3.8907042e+00 2.9393854e+00\n",
      " 3.0255363e+00 1.9592216e+00 1.8225367e+00 1.9401287e+00]\n",
      "[0 0 0 0 0 0 0]\n",
      "[3 4 3 3 2 2 2]\n",
      "False\n",
      "[0.00494357 0.01086508 0.00570302 0.00944257 0.06061656 0.03028761\n",
      " 0.00446832 2.0119784  1.9954107  0.9924752  0.9871184  1.9060833\n",
      " 1.9647623  1.9762918 ]\n",
      "[0 0 0 0 0 0 0]\n",
      "[2 2 1 1 2 2 2]\n",
      "False\n",
      "[0.01200012 0.00941094 0.02336973 0.03424367 0.8881035  0.92554766\n",
      " 0.00395124 2.1473594  2.4524314  1.1335037  1.2189711  2.1524346\n",
      " 2.1448731  2.227665  ]\n",
      "[0 0 0 0 1 1 0]\n",
      "[2 2 1 1 2 2 2]\n",
      "True\n",
      "[ 0.00736442  0.00784516  0.00783075  0.01696333  0.06513043  0.03517737\n",
      "  0.00321806  1.97922     1.8935652   0.98963493  0.9839419  -0.14321218\n",
      " -0.0510644   2.033686  ]\n",
      "[0 0 0 0 0 0 0]\n",
      "[2 2 1 1 0 0 2]\n",
      "False\n",
      "[ 1.7711130e-03  8.2684594e-04  9.1039651e-04  3.9939471e-03\n",
      "  1.1960124e-02  5.2428688e-03  5.8811082e-04  9.9571347e-01\n",
      "  1.0333362e+00 -9.6717753e-02 -7.0243001e-02  2.4455341e-02\n",
      "  2.4671827e-02  1.0541682e+00]\n",
      "[0 0 0 0 0 0 0]\n",
      "[1 1 0 0 0 0 1]\n",
      "False\n"
     ]
    }
   ],
   "source": [
    "for x in pred:\n",
    "    print(x)\n",
    "    out,out1,out2 = postprocess(x)\n",
    "    \n",
    "    print(out)\n",
    "    print(out1)\n",
    "    print(out2)"
   ]
  },
  {
   "cell_type": "code",
   "execution_count": null,
   "metadata": {
    "collapsed": true
   },
   "outputs": [],
   "source": []
  }
 ],
 "metadata": {
  "anaconda-cloud": {},
  "kernelspec": {
   "display_name": "Python [conda root]",
   "language": "python",
   "name": "conda-root-py"
  },
  "language_info": {
   "codemirror_mode": {
    "name": "ipython",
    "version": 3
   },
   "file_extension": ".py",
   "mimetype": "text/x-python",
   "name": "python",
   "nbconvert_exporter": "python",
   "pygments_lexer": "ipython3",
   "version": "3.5.2"
  }
 },
 "nbformat": 4,
 "nbformat_minor": 1
}
